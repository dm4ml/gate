{
 "cells": [
  {
   "attachments": {},
   "cell_type": "markdown",
   "metadata": {},
   "source": [
    "# Detecting Drift in Text Data\n",
    "\n",
    "Here, we load the civilcomments dataset; a dataset of comments from the Civil Comments platform. The dataset is available on [Kaggle](https://www.kaggle.com/c/jigsaw-unintended-bias-in-toxicity-classification/data). We use the prepackaged loaders in the WILDS library to load the dataset."
   ]
  },
  {
   "cell_type": "code",
   "execution_count": 1,
   "metadata": {},
   "outputs": [],
   "source": [
    "!pip install wilds --quiet"
   ]
  },
  {
   "cell_type": "code",
   "execution_count": 2,
   "metadata": {},
   "outputs": [],
   "source": [
    "%load_ext autoreload\n",
    "%autoreload 2"
   ]
  },
  {
   "cell_type": "code",
   "execution_count": 3,
   "metadata": {},
   "outputs": [
    {
     "name": "stderr",
     "output_type": "stream",
     "text": [
      "/Users/shreyashankar/miniforge3/envs/dataval/lib/python3.8/site-packages/tqdm/auto.py:21: TqdmWarning: IProgress not found. Please update jupyter and ipywidgets. See https://ipywidgets.readthedocs.io/en/stable/user_install.html\n",
      "  from .autonotebook import tqdm as notebook_tqdm\n"
     ]
    }
   ],
   "source": [
    "from gate import summarize, detect_drift\n",
    "from wilds import get_dataset\n",
    "\n",
    "import numpy as np\n",
    "import os\n",
    "import pandas as pd"
   ]
  },
  {
   "cell_type": "code",
   "execution_count": 4,
   "metadata": {},
   "outputs": [],
   "source": [
    "raw_dataset = get_dataset(\n",
    "    dataset=\"civilcomments\", download=True, root_dir=\"data\"\n",
    ")\n",
    "df = pd.read_csv(\n",
    "    os.path.join(\n",
    "        \"data\", \"civilcomments_v1.0\", \"all_data_with_identities.csv\"\n",
    "    )\n",
    ")\n",
    "# df[\"created_date\"] = pd.to_datetime(df[\"created_date\"], format='mixed')\n",
    "\n",
    "# Sample 10,000 rows from the dataset\n",
    "df = df.sample(n=20000, random_state=42).reset_index(drop=True)"
   ]
  },
  {
   "attachments": {},
   "cell_type": "markdown",
   "metadata": {},
   "source": [
    "To create partitions, we can look at the toxicity levels of the comments."
   ]
  },
  {
   "cell_type": "code",
   "execution_count": 5,
   "metadata": {},
   "outputs": [
    {
     "data": {
      "text/plain": [
       "<Axes: >"
      ]
     },
     "execution_count": 5,
     "metadata": {},
     "output_type": "execute_result"
    },
    {
     "data": {
      "image/png": "[encoded data removed]",
      "text/plain": [
       "<Figure size 640x480 with 1 Axes>"
      ]
     },
     "metadata": {},
     "output_type": "display_data"
    }
   ],
   "source": [
    "df[\"toxicity\"].hist(bins=20)"
   ]
  },
  {
   "attachments": {},
   "cell_type": "markdown",
   "metadata": {},
   "source": [
    "We'll create 10 partitions; one with low toxicity levels, one with high toxicity levels, and the other 8 with a random mix of toxicity levels."
   ]
  },
  {
   "cell_type": "code",
   "execution_count": 6,
   "metadata": {},
   "outputs": [
    {
     "data": {
      "text/html": [
       "<div>\n",
       "<style scoped>\n",
       "    .dataframe tbody tr th:only-of-type {\n",
       "        vertical-align: middle;\n",
       "    }\n",
       "\n",
       "    .dataframe tbody tr th {\n",
       "        vertical-align: top;\n",
       "    }\n",
       "\n",
       "    .dataframe thead th {\n",
       "        text-align: right;\n",
       "    }\n",
       "</style>\n",
       "<table border=\"1\" class=\"dataframe\">\n",
       "  <thead>\n",
       "    <tr style=\"text-align: right;\">\n",
       "      <th></th>\n",
       "      <th>Unnamed: 0</th>\n",
       "      <th>id</th>\n",
       "      <th>comment_text</th>\n",
       "      <th>split</th>\n",
       "      <th>created_date</th>\n",
       "      <th>publication_id</th>\n",
       "      <th>parent_id</th>\n",
       "      <th>article_id</th>\n",
       "      <th>rating</th>\n",
       "      <th>funny</th>\n",
       "      <th>...</th>\n",
       "      <th>disability_any</th>\n",
       "      <th>identity_any</th>\n",
       "      <th>num_identities</th>\n",
       "      <th>more_than_one_identity</th>\n",
       "      <th>na_gender</th>\n",
       "      <th>na_orientation</th>\n",
       "      <th>na_religion</th>\n",
       "      <th>na_race</th>\n",
       "      <th>na_disability</th>\n",
       "      <th>partition</th>\n",
       "    </tr>\n",
       "  </thead>\n",
       "  <tbody>\n",
       "    <tr>\n",
       "      <th>0</th>\n",
       "      <td>315698</td>\n",
       "      <td>5041802</td>\n",
       "      <td>Thank you Stephanie, great post. You should be...</td>\n",
       "      <td>train</td>\n",
       "      <td>2017-03-23 02:09:07.887924+00</td>\n",
       "      <td>55</td>\n",
       "      <td>NaN</td>\n",
       "      <td>320734</td>\n",
       "      <td>approved</td>\n",
       "      <td>0</td>\n",
       "      <td>...</td>\n",
       "      <td>0</td>\n",
       "      <td>0</td>\n",
       "      <td>0.0</td>\n",
       "      <td>False</td>\n",
       "      <td>1</td>\n",
       "      <td>1</td>\n",
       "      <td>1</td>\n",
       "      <td>1</td>\n",
       "      <td>1</td>\n",
       "      <td>9_low</td>\n",
       "    </tr>\n",
       "    <tr>\n",
       "      <th>1</th>\n",
       "      <td>205291</td>\n",
       "      <td>5924876</td>\n",
       "      <td>Poor, poor us! We're so abused! Give it a brea...</td>\n",
       "      <td>train</td>\n",
       "      <td>2017-09-09 14:08:31.131728+00</td>\n",
       "      <td>54</td>\n",
       "      <td>5923381.0</td>\n",
       "      <td>375645</td>\n",
       "      <td>rejected</td>\n",
       "      <td>0</td>\n",
       "      <td>...</td>\n",
       "      <td>0</td>\n",
       "      <td>1</td>\n",
       "      <td>1.0</td>\n",
       "      <td>False</td>\n",
       "      <td>0</td>\n",
       "      <td>1</td>\n",
       "      <td>1</td>\n",
       "      <td>1</td>\n",
       "      <td>1</td>\n",
       "      <td>2_medium</td>\n",
       "    </tr>\n",
       "    <tr>\n",
       "      <th>2</th>\n",
       "      <td>98697</td>\n",
       "      <td>5926727</td>\n",
       "      <td>Yeah, as we've gotten so used to with the Rock...</td>\n",
       "      <td>train</td>\n",
       "      <td>2017-09-09 20:35:55.150162+00</td>\n",
       "      <td>102</td>\n",
       "      <td>5924578.0</td>\n",
       "      <td>375714</td>\n",
       "      <td>approved</td>\n",
       "      <td>0</td>\n",
       "      <td>...</td>\n",
       "      <td>0</td>\n",
       "      <td>0</td>\n",
       "      <td>0.0</td>\n",
       "      <td>False</td>\n",
       "      <td>1</td>\n",
       "      <td>1</td>\n",
       "      <td>1</td>\n",
       "      <td>1</td>\n",
       "      <td>1</td>\n",
       "      <td>9_low</td>\n",
       "    </tr>\n",
       "    <tr>\n",
       "      <th>3</th>\n",
       "      <td>42002</td>\n",
       "      <td>5785459</td>\n",
       "      <td>If your actions thereby assist Sears' failure,...</td>\n",
       "      <td>test</td>\n",
       "      <td>2017-08-17 04:15:42.186750+00</td>\n",
       "      <td>54</td>\n",
       "      <td>5785299.0</td>\n",
       "      <td>367422</td>\n",
       "      <td>approved</td>\n",
       "      <td>0</td>\n",
       "      <td>...</td>\n",
       "      <td>0</td>\n",
       "      <td>0</td>\n",
       "      <td>0.0</td>\n",
       "      <td>False</td>\n",
       "      <td>1</td>\n",
       "      <td>1</td>\n",
       "      <td>1</td>\n",
       "      <td>1</td>\n",
       "      <td>1</td>\n",
       "      <td>9_low</td>\n",
       "    </tr>\n",
       "    <tr>\n",
       "      <th>4</th>\n",
       "      <td>385519</td>\n",
       "      <td>5240478</td>\n",
       "      <td>It is indeed a balancing act, but by supportin...</td>\n",
       "      <td>train</td>\n",
       "      <td>2017-05-10 22:34:47.727569+00</td>\n",
       "      <td>53</td>\n",
       "      <td>5238832.0</td>\n",
       "      <td>333501</td>\n",
       "      <td>approved</td>\n",
       "      <td>0</td>\n",
       "      <td>...</td>\n",
       "      <td>0</td>\n",
       "      <td>1</td>\n",
       "      <td>2.0</td>\n",
       "      <td>True</td>\n",
       "      <td>0</td>\n",
       "      <td>1</td>\n",
       "      <td>0</td>\n",
       "      <td>1</td>\n",
       "      <td>1</td>\n",
       "      <td>7_medium</td>\n",
       "    </tr>\n",
       "  </tbody>\n",
       "</table>\n",
       "<p>5 rows × 60 columns</p>\n",
       "</div>"
      ],
      "text/plain": [
       "   Unnamed: 0       id                                       comment_text   \n",
       "0      315698  5041802  Thank you Stephanie, great post. You should be...  \\\n",
       "1      205291  5924876  Poor, poor us! We're so abused! Give it a brea...   \n",
       "2       98697  5926727  Yeah, as we've gotten so used to with the Rock...   \n",
       "3       42002  5785459  If your actions thereby assist Sears' failure,...   \n",
       "4      385519  5240478  It is indeed a balancing act, but by supportin...   \n",
       "\n",
       "   split                   created_date  publication_id  parent_id   \n",
       "0  train  2017-03-23 02:09:07.887924+00              55        NaN  \\\n",
       "1  train  2017-09-09 14:08:31.131728+00              54  5923381.0   \n",
       "2  train  2017-09-09 20:35:55.150162+00             102  5924578.0   \n",
       "3   test  2017-08-17 04:15:42.186750+00              54  5785299.0   \n",
       "4  train  2017-05-10 22:34:47.727569+00              53  5238832.0   \n",
       "\n",
       "   article_id    rating  funny  ...  disability_any  identity_any   \n",
       "0      320734  approved      0  ...               0             0  \\\n",
       "1      375645  rejected      0  ...               0             1   \n",
       "2      375714  approved      0  ...               0             0   \n",
       "3      367422  approved      0  ...               0             0   \n",
       "4      333501  approved      0  ...               0             1   \n",
       "\n",
       "   num_identities  more_than_one_identity  na_gender  na_orientation   \n",
       "0             0.0                   False          1               1  \\\n",
       "1             1.0                   False          0               1   \n",
       "2             0.0                   False          1               1   \n",
       "3             0.0                   False          1               1   \n",
       "4             2.0                    True          0               1   \n",
       "\n",
       "   na_religion  na_race  na_disability  partition  \n",
       "0            1        1              1      9_low  \n",
       "1            1        1              1   2_medium  \n",
       "2            1        1              1      9_low  \n",
       "3            1        1              1      9_low  \n",
       "4            0        1              1   7_medium  \n",
       "\n",
       "[5 rows x 60 columns]"
      ]
     },
     "execution_count": 6,
     "metadata": {},
     "output_type": "execute_result"
    }
   ],
   "source": [
    "def assign_partition(toxicity):\n",
    "    if toxicity < 0.1:\n",
    "        return \"9_low\"\n",
    "    elif toxicity > 0.9:\n",
    "        return \"9_high\"\n",
    "    else:\n",
    "        i = np.random.choice([1, 2, 3, 4, 5, 6, 7, 8])\n",
    "        return f\"{i}_medium\"\n",
    "\n",
    "df[\"partition\"] = df[\"toxicity\"].apply(assign_partition)\n",
    "df.head()"
   ]
  },
  {
   "attachments": {},
   "cell_type": "markdown",
   "metadata": {},
   "source": [
    "## Create Embeddings\n",
    "\n",
    "For the `comment_text` column, we create embeddings using the huggingface `sentence-transformers` library."
   ]
  },
  {
   "cell_type": "code",
   "execution_count": 7,
   "metadata": {},
   "outputs": [
    {
     "name": "stderr",
     "output_type": "stream",
     "text": [
      "Batches: 100%|██████████| 625/625 [02:31<00:00,  4.14it/s]\n"
     ]
    }
   ],
   "source": [
    "from sentence_transformers import SentenceTransformer\n",
    "\n",
    "model = SentenceTransformer('sentence-transformers/all-MiniLM-L6-v2')\n",
    "comments = df[\"comment_text\"].tolist()\n",
    "embeddings = model.encode(comments, show_progress_bar=True)"
   ]
  },
  {
   "cell_type": "code",
   "execution_count": 8,
   "metadata": {},
   "outputs": [],
   "source": [
    "df[\"comment_embedding\"] = [e for e in embeddings]"
   ]
  },
  {
   "attachments": {},
   "cell_type": "markdown",
   "metadata": {},
   "source": [
    "## Create Partition Summaries\n",
    "\n",
    "We use the `summarize` function to create partition summaries for each partition. We use the `comment_text` column as the embedding key, and the `comment_embedding` column as embedding value. We also pass in other columns that we want to compute statistics for."
   ]
  },
  {
   "cell_type": "code",
   "execution_count": 9,
   "metadata": {},
   "outputs": [],
   "source": [
    "columns = [\n",
    "    \"rating\",\n",
    "    \"toxicity\"\n",
    "]\n",
    "partition_key = \"partition\"\n",
    "embedding_key = \"comment_text\"\n",
    "embedding_value = \"comment_embedding\"\n"
   ]
  },
  {
   "cell_type": "code",
   "execution_count": 10,
   "metadata": {},
   "outputs": [
    {
     "name": "stdout",
     "output_type": "stream",
     "text": [
      "Computed summaries for 10 partitions.\n"
     ]
    }
   ],
   "source": [
    "summaries = summarize(df, columns, partition_key=partition_key, embedding_column_map={embedding_key: embedding_value})\n",
    "print(f\"Computed summaries for {len(summaries)} partitions.\")"
   ]
  },
  {
   "attachments": {},
   "cell_type": "markdown",
   "metadata": {},
   "source": [
    "We can print out the summary of the first partition:"
   ]
  },
  {
   "cell_type": "code",
   "execution_count": 11,
   "metadata": {},
   "outputs": [
    {
     "name": "stdout",
     "output_type": "stream",
     "text": [
      "Regular summary:\n",
      "  partition    column  coverage      mean  num_unique_values  occurrence_ratio  p50       p95\n",
      "0  1_medium    rating       1.0       NaN                2.0          0.881002  NaN       NaN\n",
      "1  1_medium  toxicity       1.0  0.342472                NaN               NaN  0.3  0.790323\n",
      "Embedding summary:\n",
      "    partition                 column  coverage          mean           p50           p95\n",
      "0    1_medium    comment_embedding_0       1.0  2.915310e-02  2.998098e-02  1.070179e-01\n",
      "1    1_medium    comment_embedding_1       1.0  1.808381e-02  1.903583e-02  1.030365e-01\n",
      "2    1_medium   comment_embedding_10       1.0  2.155384e-04 -9.552613e-04  8.198688e-02\n",
      "3    1_medium  comment_embedding_100       1.0 -3.394470e-02 -3.461882e-02  3.908946e-02\n",
      "4    1_medium  comment_embedding_101       1.0  1.424212e-02  1.241668e-02  9.585363e-02\n",
      "5    1_medium  comment_embedding_102       1.0 -6.614123e-03 -6.704919e-03  6.507558e-02\n",
      "6    1_medium  comment_embedding_103       1.0 -1.635480e-02 -1.583833e-02  6.202387e-02\n",
      "7    1_medium  comment_embedding_104       1.0 -2.884261e-03 -3.358152e-03  7.475794e-02\n",
      "8    1_medium  comment_embedding_105       1.0 -2.936005e-02 -2.791284e-02  4.917588e-02\n",
      "9    1_medium  comment_embedding_106       1.0 -1.261919e-02 -1.293593e-02  6.212509e-02\n",
      "10   1_medium  comment_embedding_107       1.0  3.625438e-04  5.342105e-04  6.961457e-02\n",
      "11   1_medium  comment_embedding_108       1.0 -3.422718e-02 -3.333585e-02  4.205183e-02\n",
      "12   1_medium  comment_embedding_109       1.0 -1.107654e-02 -1.229911e-02  5.828189e-02\n",
      "13   1_medium   comment_embedding_11       1.0  2.104291e-02  2.186816e-02  1.080002e-01\n",
      "14   1_medium  comment_embedding_110       1.0  1.324362e-03  2.997101e-03  7.743485e-02\n",
      "15   1_medium  comment_embedding_111       1.0 -6.888249e-03 -8.254494e-03  6.469136e-02\n",
      "16   1_medium  comment_embedding_112       1.0 -5.141055e-03 -5.921475e-03  6.930663e-02\n",
      "17   1_medium  comment_embedding_113       1.0 -7.258518e-03 -4.924367e-03  8.404773e-02\n",
      "18   1_medium  comment_embedding_114       1.0  3.051254e-02  3.245775e-02  1.025967e-01\n",
      "19   1_medium  comment_embedding_115       1.0 -6.134467e-03 -6.339227e-03  8.259026e-02\n",
      "20   1_medium  comment_embedding_116       1.0  1.417797e-02  1.571521e-02  9.211151e-02\n",
      "21   1_medium  comment_embedding_117       1.0 -6.418493e-03 -5.909253e-03  6.774972e-02\n",
      "22   1_medium  comment_embedding_118       1.0 -2.378973e-02 -2.398269e-02  6.057338e-02\n",
      "23   1_medium  comment_embedding_119       1.0  1.512752e-03  1.122508e-03  8.349115e-02\n",
      "24   1_medium   comment_embedding_12       1.0  1.128958e-02  1.021656e-02  8.611205e-02\n",
      "25   1_medium  comment_embedding_120       1.0 -1.334375e-03 -6.251169e-04  7.510698e-02\n",
      "26   1_medium  comment_embedding_121       1.0  8.179168e-03  8.484622e-03  8.250653e-02\n",
      "27   1_medium  comment_embedding_122       1.0 -3.969322e-02 -3.959062e-02  4.442018e-02\n",
      "28   1_medium  comment_embedding_123       1.0  4.383501e-02  4.299254e-02  1.264444e-01\n",
      "29   1_medium  comment_embedding_124       1.0  1.676111e-02  1.541666e-02  9.943963e-02\n",
      "30   1_medium  comment_embedding_125       1.0 -4.764260e-02 -4.833439e-02  3.938128e-02\n",
      "31   1_medium  comment_embedding_126       1.0 -3.241564e-02 -3.251957e-02  5.042341e-02\n",
      "32   1_medium  comment_embedding_127       1.0 -1.261485e-34  1.691597e-35  5.372339e-33\n",
      "33   1_medium  comment_embedding_128       1.0 -2.061386e-03 -2.517099e-03  7.685196e-02\n",
      "34   1_medium  comment_embedding_129       1.0  9.961067e-04  3.464271e-03  7.858845e-02\n",
      "35   1_medium   comment_embedding_13       1.0 -1.355643e-02 -1.356231e-02  5.991760e-02\n",
      "36   1_medium  comment_embedding_130       1.0 -1.770640e-03 -1.603871e-03  6.744516e-02\n",
      "37   1_medium  comment_embedding_131       1.0 -1.004191e-02 -9.059852e-03  6.663397e-02\n",
      "38   1_medium  comment_embedding_132       1.0 -2.527868e-03 -3.582853e-03  8.021720e-02\n",
      "39   1_medium  comment_embedding_133       1.0  5.428642e-03  8.427094e-03  8.888810e-02\n",
      "40   1_medium  comment_embedding_134       1.0 -1.947845e-02 -2.132920e-02  5.336342e-02\n",
      "41   1_medium  comment_embedding_135       1.0 -2.005084e-02 -1.907985e-02  5.718956e-02\n",
      "42   1_medium  comment_embedding_136       1.0  1.436156e-02  1.023306e-02  1.039118e-01\n",
      "43   1_medium  comment_embedding_137       1.0  6.470419e-03  6.031351e-03  8.449265e-02\n",
      "44   1_medium  comment_embedding_138       1.0  1.192074e-02  1.407201e-02  8.783202e-02\n",
      "45   1_medium  comment_embedding_139       1.0 -1.993911e-03 -1.740870e-03  9.582110e-02\n",
      "46   1_medium   comment_embedding_14       1.0 -1.409133e-02 -1.379399e-02  6.251873e-02\n",
      "47   1_medium  comment_embedding_140       1.0 -2.893968e-03 -1.369812e-03  7.167275e-02\n",
      "48   1_medium  comment_embedding_141       1.0  1.354145e-02  1.538082e-02  9.694344e-02\n",
      "49   1_medium  comment_embedding_142       1.0 -1.696116e-02 -1.776246e-02  6.872898e-02\n",
      "50   1_medium  comment_embedding_143       1.0  5.051344e-03  6.004839e-03  9.401065e-02\n",
      "51   1_medium  comment_embedding_144       1.0 -2.006681e-02 -2.305566e-02  7.363045e-02\n",
      "52   1_medium  comment_embedding_145       1.0  1.972746e-02  2.132235e-02  9.149642e-02\n",
      "53   1_medium  comment_embedding_146       1.0 -6.980160e-03 -6.213538e-03  7.154836e-02\n",
      "54   1_medium  comment_embedding_147       1.0 -1.709566e-02 -1.859845e-02  6.409072e-02\n",
      "55   1_medium  comment_embedding_148       1.0  2.552859e-02  2.661399e-02  1.058665e-01\n",
      "56   1_medium  comment_embedding_149       1.0  2.665263e-02  2.600159e-02  1.181285e-01\n",
      "57   1_medium   comment_embedding_15       1.0  2.592376e-02  2.754841e-02  9.710456e-02\n",
      "58   1_medium  comment_embedding_150       1.0 -4.652813e-03 -4.282321e-03  6.004151e-02\n",
      "59   1_medium  comment_embedding_151       1.0  1.527541e-02  1.575942e-02  9.163594e-02\n",
      "60   1_medium  comment_embedding_152       1.0 -2.064917e-02 -2.055838e-02  6.961450e-02\n",
      "61   1_medium  comment_embedding_153       1.0 -2.224547e-02 -2.369403e-02  5.710115e-02\n",
      "62   1_medium  comment_embedding_154       1.0  2.362599e-02  2.359026e-02  1.062971e-01\n",
      "63   1_medium  comment_embedding_155       1.0  8.654372e-03  9.167944e-03  7.930510e-02\n",
      "64   1_medium  comment_embedding_156       1.0  3.186639e-03  1.029953e-03  8.360203e-02\n",
      "65   1_medium  comment_embedding_157       1.0  9.337283e-03  9.726599e-03  4.849512e-02\n",
      "66   1_medium  comment_embedding_158       1.0 -3.280720e-02 -3.285144e-02  4.503458e-02\n",
      "67   1_medium  comment_embedding_159       1.0  4.580375e-03  4.742873e-03  8.838637e-02\n",
      "68   1_medium   comment_embedding_16       1.0 -3.230131e-03 -2.067869e-03  7.384328e-02\n",
      "69   1_medium  comment_embedding_160       1.0  1.585043e-02  1.554579e-02  9.551996e-02\n",
      "70   1_medium  comment_embedding_161       1.0  4.724402e-03  3.704234e-03  8.058143e-02\n",
      "71   1_medium  comment_embedding_162       1.0  1.952955e-02  1.889791e-02  9.834036e-02\n",
      "72   1_medium  comment_embedding_163       1.0 -7.117176e-03 -7.908367e-03  6.740930e-02\n",
      "73   1_medium  comment_embedding_164       1.0  1.100334e-02  1.148152e-02  8.994023e-02\n",
      "74   1_medium  comment_embedding_165       1.0  8.791549e-04  1.701247e-03  7.747855e-02\n",
      "75   1_medium  comment_embedding_166       1.0 -1.652587e-02 -1.878459e-02  6.153639e-02\n",
      "76   1_medium  comment_embedding_167       1.0 -5.361502e-03 -4.063478e-03  6.591869e-02\n",
      "77   1_medium  comment_embedding_168       1.0 -8.084442e-03 -6.810877e-03  6.459702e-02\n",
      "78   1_medium  comment_embedding_169       1.0  2.487062e-02  2.509984e-02  9.577188e-02\n",
      "79   1_medium   comment_embedding_17       1.0 -1.628234e-02 -1.682593e-02  6.513856e-02\n",
      "80   1_medium  comment_embedding_170       1.0  1.021049e-03  1.482762e-04  9.357300e-02\n",
      "81   1_medium  comment_embedding_171       1.0  1.288150e-02  1.256867e-02  8.565351e-02\n",
      "82   1_medium  comment_embedding_172       1.0  1.840932e-03  2.959082e-03  1.006676e-01\n",
      "83   1_medium  comment_embedding_173       1.0  1.900672e-02  1.809862e-02  9.393848e-02\n",
      "84   1_medium  comment_embedding_174       1.0  1.558783e-02  1.362539e-02  1.002469e-01\n",
      "85   1_medium  comment_embedding_175       1.0 -2.275220e-02 -2.130017e-02  5.347123e-02\n",
      "86   1_medium  comment_embedding_176       1.0 -1.023313e-02 -1.012511e-02  8.322258e-02\n",
      "87   1_medium  comment_embedding_177       1.0  1.786635e-02  1.881081e-02  9.535469e-02\n",
      "88   1_medium  comment_embedding_178       1.0  5.596444e-03  3.555415e-03  8.505222e-02\n",
      "89   1_medium  comment_embedding_179       1.0  2.042097e-02  1.933086e-02  9.006085e-02\n",
      "90   1_medium   comment_embedding_18       1.0 -1.834669e-02 -1.589779e-02  5.447775e-02\n",
      "91   1_medium  comment_embedding_180       1.0  1.441237e-02  1.594742e-02  9.513205e-02\n",
      "92   1_medium  comment_embedding_181       1.0  2.688252e-03  1.211681e-03  8.695216e-02\n",
      "93   1_medium  comment_embedding_182       1.0 -5.056504e-03 -3.485242e-03  6.508455e-02\n",
      "94   1_medium  comment_embedding_183       1.0 -1.202013e-02 -1.601591e-02  6.486516e-02\n",
      "95   1_medium  comment_embedding_184       1.0 -2.520565e-02 -2.449774e-02  4.961434e-02\n",
      "96   1_medium  comment_embedding_185       1.0  1.694342e-02  1.581119e-02  1.055346e-01\n",
      "97   1_medium  comment_embedding_186       1.0  1.832176e-02  1.889473e-02  8.644287e-02\n",
      "98   1_medium  comment_embedding_187       1.0 -1.288028e-02 -1.429147e-02  6.797381e-02\n",
      "99   1_medium  comment_embedding_188       1.0 -9.105760e-03 -9.105125e-03  8.106913e-02\n",
      "100  1_medium  comment_embedding_189       1.0  8.442130e-03  1.032150e-02  8.827947e-02\n",
      "101  1_medium   comment_embedding_19       1.0  4.172015e-02  4.035694e-02  1.297369e-01\n",
      "102  1_medium  comment_embedding_190       1.0 -2.786128e-02 -2.767512e-02  5.137938e-02\n",
      "103  1_medium  comment_embedding_191       1.0 -2.910830e-03 -4.265140e-03  7.977901e-02\n",
      "104  1_medium  comment_embedding_192       1.0 -1.836917e-02 -1.958013e-02  6.303079e-02\n",
      "105  1_medium  comment_embedding_193       1.0 -9.051987e-03 -1.063715e-02  7.629608e-02\n",
      "106  1_medium  comment_embedding_194       1.0 -1.606301e-02 -1.557595e-02  7.325508e-02\n",
      "107  1_medium  comment_embedding_195       1.0  1.138758e-02  1.115631e-02  8.711743e-02\n",
      "108  1_medium  comment_embedding_196       1.0 -2.832047e-02 -2.880271e-02  4.735025e-02\n",
      "109  1_medium  comment_embedding_197       1.0  6.045215e-03  6.789016e-03  8.958405e-02\n",
      "110  1_medium  comment_embedding_198       1.0  2.419293e-02  2.542957e-02  9.741008e-02\n",
      "111  1_medium  comment_embedding_199       1.0  9.177498e-03  9.050847e-03  8.256758e-02\n",
      "112  1_medium    comment_embedding_2       1.0  4.360729e-03  1.947772e-03  8.663394e-02\n",
      "113  1_medium   comment_embedding_20       1.0 -2.563953e-02 -2.579299e-02  6.353749e-02\n",
      "114  1_medium  comment_embedding_200       1.0 -1.303061e-02 -1.402176e-02  6.115412e-02\n",
      "115  1_medium  comment_embedding_201       1.0  1.131132e-03  8.769998e-04  8.288791e-02\n",
      "116  1_medium  comment_embedding_202       1.0 -2.304738e-02 -2.486891e-02  6.731234e-02\n",
      "117  1_medium  comment_embedding_203       1.0 -3.762087e-03 -3.306744e-03  7.242249e-02\n",
      "118  1_medium  comment_embedding_204       1.0  8.122781e-03  8.989915e-03  8.809593e-02\n",
      "119  1_medium  comment_embedding_205       1.0 -3.609577e-03 -2.544081e-03  7.601176e-02\n",
      "120  1_medium  comment_embedding_206       1.0  4.116974e-02  4.262570e-02  1.204115e-01\n",
      "121  1_medium  comment_embedding_207       1.0 -3.042918e-02 -2.908247e-02  4.901756e-02\n",
      "122  1_medium  comment_embedding_208       1.0  2.323085e-02  2.318856e-02  1.011227e-01\n",
      "123  1_medium  comment_embedding_209       1.0  2.758743e-03  3.404240e-03  7.829318e-02\n",
      "124  1_medium   comment_embedding_21       1.0  1.526017e-02  1.581432e-02  8.740878e-02\n",
      "125  1_medium  comment_embedding_210       1.0  3.263217e-02  3.221547e-02  1.206429e-01\n",
      "126  1_medium  comment_embedding_211       1.0 -2.088493e-02 -2.027803e-02  5.821727e-02\n",
      "127  1_medium  comment_embedding_212       1.0 -9.809528e-04  7.000137e-05  1.016092e-01\n",
      "128  1_medium  comment_embedding_213       1.0 -1.047461e-02 -1.092257e-02  7.157353e-02\n",
      "129  1_medium  comment_embedding_214       1.0  2.538331e-02  2.501586e-02  1.016649e-01\n",
      "130  1_medium  comment_embedding_215       1.0 -7.639529e-03 -7.740043e-03  6.966948e-02\n",
      "131  1_medium  comment_embedding_216       1.0  1.631937e-02  1.669131e-02  9.514809e-02\n",
      "132  1_medium  comment_embedding_217       1.0 -7.652314e-03 -7.840673e-03  7.059742e-02\n",
      "133  1_medium  comment_embedding_218       1.0 -1.074929e-02 -1.090030e-02  8.579279e-02\n",
      "134  1_medium  comment_embedding_219       1.0  1.353124e-02  1.272507e-02  9.745733e-02\n",
      "135  1_medium   comment_embedding_22       1.0  3.230165e-02  3.192946e-02  1.152520e-01\n",
      "136  1_medium  comment_embedding_220       1.0  1.343090e-02  1.258091e-02  8.690737e-02\n",
      "137  1_medium  comment_embedding_221       1.0 -9.720159e-03 -1.010027e-02  6.879650e-02\n",
      "138  1_medium  comment_embedding_222       1.0 -3.897401e-02 -3.775194e-02  4.680556e-02\n",
      "139  1_medium  comment_embedding_223       1.0 -1.831468e-33 -1.930051e-33  2.856318e-33\n",
      "140  1_medium  comment_embedding_224       1.0 -2.295094e-02 -2.357995e-02  6.053108e-02\n",
      "141  1_medium  comment_embedding_225       1.0 -2.403886e-02 -2.364249e-02  5.881974e-02\n",
      "142  1_medium  comment_embedding_226       1.0  1.376241e-03  2.466877e-03  7.712845e-02\n",
      "143  1_medium  comment_embedding_227       1.0  2.220684e-02  2.303424e-02  1.026816e-01\n",
      "144  1_medium  comment_embedding_228       1.0 -5.040472e-03 -4.650570e-03  7.095653e-02\n",
      "145  1_medium  comment_embedding_229       1.0  3.377776e-03  3.181893e-03  7.438248e-02\n",
      "146  1_medium   comment_embedding_23       1.0  1.450740e-02  1.383107e-02  8.833733e-02\n",
      "147  1_medium  comment_embedding_230       1.0 -5.560280e-06 -3.983380e-04  8.464673e-02\n",
      "148  1_medium  comment_embedding_231       1.0 -1.171148e-02 -1.371240e-02  8.063132e-02\n",
      "149  1_medium  comment_embedding_232       1.0  1.532647e-02  1.601188e-02  8.628276e-02\n",
      "150  1_medium  comment_embedding_233       1.0  6.713006e-03  6.402942e-03  8.500438e-02\n",
      "151  1_medium  comment_embedding_234       1.0  3.480167e-03  8.369217e-03  8.832362e-02\n",
      "152  1_medium  comment_embedding_235       1.0 -1.661976e-02 -1.824686e-02  5.907700e-02\n",
      "153  1_medium  comment_embedding_236       1.0  8.196291e-03  7.812525e-03  8.856970e-02\n",
      "154  1_medium  comment_embedding_237       1.0  3.553678e-02  3.613470e-02  1.209527e-01\n",
      "155  1_medium  comment_embedding_238       1.0  8.345448e-03  7.933117e-03  9.470847e-02\n",
      "156  1_medium  comment_embedding_239       1.0 -3.347421e-02 -3.501074e-02  4.124944e-02\n",
      "157  1_medium   comment_embedding_24       1.0 -1.289790e-02 -1.296353e-02  7.437169e-02\n",
      "158  1_medium  comment_embedding_240       1.0  2.401263e-02  2.345921e-02  1.058962e-01\n",
      "159  1_medium  comment_embedding_241       1.0 -6.662373e-03 -9.510739e-03  8.422749e-02\n",
      "160  1_medium  comment_embedding_242       1.0 -2.737995e-02 -2.623642e-02  4.690698e-02\n",
      "161  1_medium  comment_embedding_243       1.0 -9.766784e-03 -8.384909e-03  6.251568e-02\n",
      "162  1_medium  comment_embedding_244       1.0 -1.128575e-03  7.124700e-04  8.395587e-02\n",
      "163  1_medium  comment_embedding_245       1.0  3.892364e-02  3.948998e-02  1.187380e-01\n",
      "164  1_medium  comment_embedding_246       1.0 -1.814983e-02 -1.676674e-02  6.099837e-02\n",
      "165  1_medium  comment_embedding_247       1.0  3.187886e-02  3.004297e-02  1.080856e-01\n",
      "166  1_medium  comment_embedding_248       1.0 -1.700967e-02 -1.761258e-02  6.166784e-02\n",
      "167  1_medium  comment_embedding_249       1.0  3.903279e-03  4.113913e-03  6.827312e-02\n",
      "168  1_medium   comment_embedding_25       1.0 -7.290727e-03 -5.886907e-03  6.854922e-02\n",
      "169  1_medium  comment_embedding_250       1.0  2.265606e-02  2.503128e-02  1.126595e-01\n",
      "170  1_medium  comment_embedding_251       1.0 -3.897037e-03 -2.476857e-03  7.498314e-02\n",
      "171  1_medium  comment_embedding_252       1.0 -1.150221e-02 -1.172806e-02  6.815616e-02\n",
      "172  1_medium  comment_embedding_253       1.0 -1.898952e-02 -1.672246e-02  5.941052e-02\n",
      "173  1_medium  comment_embedding_254       1.0 -1.499991e-02 -1.670392e-02  7.087772e-02\n",
      "174  1_medium  comment_embedding_255       1.0  1.534208e-02  1.378725e-02  9.617740e-02\n",
      "175  1_medium  comment_embedding_256       1.0 -1.653180e-02 -1.599583e-02  5.659952e-02\n",
      "176  1_medium  comment_embedding_257       1.0  4.386357e-04 -5.606657e-04  7.325377e-02\n",
      "177  1_medium  comment_embedding_258       1.0  6.279293e-03  6.035022e-03  9.162469e-02\n",
      "178  1_medium  comment_embedding_259       1.0 -2.147177e-03 -4.320806e-03  7.912930e-02\n",
      "179  1_medium   comment_embedding_26       1.0  6.565232e-03  6.310852e-03  7.673246e-02\n",
      "180  1_medium  comment_embedding_260       1.0 -1.426915e-03 -3.230449e-05  8.391229e-02\n",
      "181  1_medium  comment_embedding_261       1.0  1.335821e-02  1.028118e-02  1.073836e-01\n",
      "182  1_medium  comment_embedding_262       1.0 -9.295097e-03 -1.147432e-02  8.027708e-02\n",
      "183  1_medium  comment_embedding_263       1.0 -1.601025e-02 -1.740812e-02  6.677400e-02\n",
      "184  1_medium  comment_embedding_264       1.0  1.038076e-02  8.377642e-03  9.192657e-02\n",
      "185  1_medium  comment_embedding_265       1.0 -1.848331e-02 -1.981579e-02  5.567981e-02\n",
      "186  1_medium  comment_embedding_266       1.0 -4.479037e-02 -4.473181e-02  3.888582e-02\n",
      "187  1_medium  comment_embedding_267       1.0 -1.204816e-02 -1.261110e-02  6.824011e-02\n",
      "188  1_medium  comment_embedding_268       1.0 -7.164749e-03 -6.479950e-03  6.049333e-02\n",
      "189  1_medium  comment_embedding_269       1.0  9.112198e-03  8.505575e-03  9.469274e-02\n",
      "190  1_medium   comment_embedding_27       1.0 -7.062074e-03 -6.100292e-03  6.420060e-02\n",
      "191  1_medium  comment_embedding_270       1.0  2.015055e-02  2.002868e-02  1.060517e-01\n",
      "192  1_medium  comment_embedding_271       1.0  1.834435e-02  1.909721e-02  9.593504e-02\n",
      "193  1_medium  comment_embedding_272       1.0  8.245233e-03  1.138350e-02  9.120604e-02\n",
      "194  1_medium  comment_embedding_273       1.0 -1.205832e-02 -1.244664e-02  6.914621e-02\n",
      "195  1_medium  comment_embedding_274       1.0 -4.860214e-02 -4.887937e-02  3.765441e-02\n",
      "196  1_medium  comment_embedding_275       1.0  2.313850e-03  2.671104e-03  8.625694e-02\n",
      "197  1_medium  comment_embedding_276       1.0 -9.475521e-03 -9.851918e-03  6.566018e-02\n",
      "198  1_medium  comment_embedding_277       1.0  1.583735e-02  1.488337e-02  1.013465e-01\n",
      "199  1_medium  comment_embedding_278       1.0 -3.936367e-03 -5.091466e-03  7.567541e-02\n",
      "200  1_medium  comment_embedding_279       1.0 -2.113091e-02 -2.195205e-02  5.014032e-02\n",
      "201  1_medium   comment_embedding_28       1.0 -1.940834e-02 -2.047055e-02  4.291820e-02\n",
      "202  1_medium  comment_embedding_280       1.0  1.135670e-03  1.253295e-03  9.220050e-02\n",
      "203  1_medium  comment_embedding_281       1.0 -2.444160e-02 -2.513875e-02  5.113661e-02\n",
      "204  1_medium  comment_embedding_282       1.0 -3.073224e-04 -1.126940e-03  9.458546e-02\n",
      "205  1_medium  comment_embedding_283       1.0 -1.568787e-03 -2.941171e-05  8.250949e-02\n",
      "206  1_medium  comment_embedding_284       1.0 -1.222495e-02 -1.512130e-02  7.668129e-02\n",
      "207  1_medium  comment_embedding_285       1.0  1.473241e-03  1.870666e-03  7.145248e-02\n",
      "208  1_medium  comment_embedding_286       1.0 -1.329193e-02 -1.365929e-02  6.765721e-02\n",
      "209  1_medium  comment_embedding_287       1.0 -9.339360e-03 -1.066728e-02  7.837252e-02\n",
      "210  1_medium  comment_embedding_288       1.0  2.110721e-02  2.106047e-02  8.927721e-02\n",
      "211  1_medium  comment_embedding_289       1.0 -1.025523e-02 -1.137086e-02  6.482164e-02\n",
      "212  1_medium   comment_embedding_29       1.0  2.441079e-02  2.347631e-02  1.002967e-01\n",
      "213  1_medium  comment_embedding_290       1.0 -2.317265e-02 -2.358415e-02  5.289932e-02\n",
      "214  1_medium  comment_embedding_291       1.0 -3.356449e-03 -3.526013e-03  8.547415e-02\n",
      "215  1_medium  comment_embedding_292       1.0  2.508966e-02  2.701162e-02  1.158678e-01\n",
      "216  1_medium  comment_embedding_293       1.0  8.790239e-04  1.294305e-03  7.464024e-02\n",
      "217  1_medium  comment_embedding_294       1.0  1.696723e-02  1.773041e-02  9.344539e-02\n",
      "218  1_medium  comment_embedding_295       1.0 -3.398702e-02 -3.423635e-02  4.465861e-02\n",
      "219  1_medium  comment_embedding_296       1.0 -3.982469e-02 -4.066573e-02  3.716438e-02\n",
      "220  1_medium  comment_embedding_297       1.0 -1.485111e-02 -1.732775e-02  6.799001e-02\n",
      "221  1_medium  comment_embedding_298       1.0 -3.786916e-03 -3.843745e-03  7.764040e-02\n",
      "222  1_medium  comment_embedding_299       1.0  2.391285e-02  2.244134e-02  1.073364e-01\n",
      "223  1_medium    comment_embedding_3       1.0  4.748185e-03  5.211365e-03  7.462707e-02\n",
      "224  1_medium   comment_embedding_30       1.0  1.030846e-02  1.260738e-02  8.857642e-02\n",
      "225  1_medium  comment_embedding_300       1.0 -4.323902e-03 -5.541613e-03  8.171840e-02\n",
      "226  1_medium  comment_embedding_301       1.0  3.804442e-03  5.819975e-03  8.695895e-02\n",
      "227  1_medium  comment_embedding_302       1.0 -1.209900e-02 -1.191617e-02  6.207867e-02\n",
      "228  1_medium  comment_embedding_303       1.0  8.711671e-03  8.034874e-03  8.367604e-02\n",
      "229  1_medium  comment_embedding_304       1.0  3.630759e-02  3.496568e-02  1.180973e-01\n",
      "230  1_medium  comment_embedding_305       1.0 -5.895539e-02 -6.002600e-02  1.675169e-02\n",
      "231  1_medium  comment_embedding_306       1.0  3.175001e-03  6.079415e-03  8.858028e-02\n",
      "232  1_medium  comment_embedding_307       1.0  4.104408e-05 -2.060140e-04  8.311106e-02\n",
      "233  1_medium  comment_embedding_308       1.0  1.720097e-02  1.693626e-02  9.758177e-02\n",
      "234  1_medium  comment_embedding_309       1.0  7.081537e-03  7.048558e-03  9.893502e-02\n",
      "235  1_medium   comment_embedding_31       1.0  1.010342e-03  8.897324e-04  8.453319e-02\n",
      "236  1_medium  comment_embedding_310       1.0  8.575518e-03  9.740111e-03  8.609548e-02\n",
      "237  1_medium  comment_embedding_311       1.0 -2.109648e-02 -2.028754e-02  5.733022e-02\n",
      "238  1_medium  comment_embedding_312       1.0 -1.277979e-03 -7.060841e-04  6.436033e-02\n",
      "239  1_medium  comment_embedding_313       1.0  2.507389e-02  2.516928e-02  9.434085e-02\n",
      "240  1_medium  comment_embedding_314       1.0 -1.773608e-02 -1.710659e-02  6.262227e-02\n",
      "241  1_medium  comment_embedding_315       1.0 -3.162974e-02 -3.223519e-02  4.451135e-02\n",
      "242  1_medium  comment_embedding_316       1.0 -6.572045e-03 -6.218420e-03  7.518889e-02\n",
      "243  1_medium  comment_embedding_317       1.0  1.073226e-02  1.083071e-02  8.920682e-02\n",
      "244  1_medium  comment_embedding_318       1.0  3.906021e-03  3.080572e-03  8.318069e-02\n",
      "245  1_medium  comment_embedding_319       1.0 -3.917012e-08 -3.927872e-08 -1.983789e-08\n",
      "246  1_medium   comment_embedding_32       1.0 -1.252582e-02 -1.001758e-02  6.099852e-02\n",
      "247  1_medium  comment_embedding_320       1.0 -1.791614e-03 -1.905890e-03  7.107885e-02\n",
      "248  1_medium  comment_embedding_321       1.0  5.623361e-04  1.296962e-03  7.770292e-02\n",
      "249  1_medium  comment_embedding_322       1.0 -9.646925e-03 -1.064303e-02  7.031955e-02\n",
      "250  1_medium  comment_embedding_323       1.0  1.211370e-02  1.353716e-02  8.254673e-02\n",
      "251  1_medium  comment_embedding_324       1.0  8.847178e-03  8.084525e-03  8.240788e-02\n",
      "252  1_medium  comment_embedding_325       1.0  1.310150e-02  1.526935e-02  1.007188e-01\n",
      "253  1_medium  comment_embedding_326       1.0 -1.378550e-02 -1.471348e-02  6.134548e-02\n",
      "254  1_medium  comment_embedding_327       1.0 -2.780266e-02 -2.801170e-02  6.196307e-02\n",
      "255  1_medium  comment_embedding_328       1.0  1.005058e-02  1.113635e-02  7.867715e-02\n",
      "256  1_medium  comment_embedding_329       1.0  2.588279e-02  2.824144e-02  1.043348e-01\n",
      "257  1_medium   comment_embedding_33       1.0  2.756731e-02  2.648636e-02  1.031057e-01\n",
      "258  1_medium  comment_embedding_330       1.0 -6.914829e-04  1.250458e-04  9.017080e-02\n",
      "259  1_medium  comment_embedding_331       1.0 -3.809234e-04 -4.377598e-03  7.636577e-02\n",
      "260  1_medium  comment_embedding_332       1.0 -9.342743e-03 -8.920157e-03  6.745842e-02\n",
      "261  1_medium  comment_embedding_333       1.0  1.439768e-03  7.731119e-04  7.726686e-02\n",
      "262  1_medium  comment_embedding_334       1.0 -1.165251e-02 -1.515774e-02  7.680109e-02\n",
      "263  1_medium  comment_embedding_335       1.0  1.575144e-02  1.516426e-02  8.494186e-02\n",
      "264  1_medium  comment_embedding_336       1.0  9.808260e-03  8.402766e-03  8.953357e-02\n",
      "265  1_medium  comment_embedding_337       1.0 -3.070045e-02 -3.142111e-02  5.650841e-02\n",
      "266  1_medium  comment_embedding_338       1.0 -1.391627e-02 -1.524733e-02  4.325351e-02\n",
      "267  1_medium  comment_embedding_339       1.0  4.629481e-03  4.799410e-03  7.991339e-02\n",
      "268  1_medium   comment_embedding_34       1.0 -2.176533e-03  1.802148e-04  7.514215e-02\n",
      "269  1_medium  comment_embedding_340       1.0 -1.064713e-02 -7.466447e-03  7.069399e-02\n",
      "270  1_medium  comment_embedding_341       1.0  9.855168e-03  1.092565e-02  7.725842e-02\n",
      "271  1_medium  comment_embedding_342       1.0 -3.080294e-03 -4.331168e-03  8.314138e-02\n",
      "272  1_medium  comment_embedding_343       1.0  8.294478e-03  1.156152e-02  8.115488e-02\n",
      "273  1_medium  comment_embedding_344       1.0  1.673471e-03  2.508319e-03  6.794611e-02\n",
      "274  1_medium  comment_embedding_345       1.0  1.266830e-02  1.342713e-02  8.023313e-02\n",
      "275  1_medium  comment_embedding_346       1.0 -2.275756e-02 -2.355617e-02  5.386873e-02\n",
      "276  1_medium  comment_embedding_347       1.0  8.686256e-03  1.086456e-02  8.300422e-02\n",
      "277  1_medium  comment_embedding_348       1.0  3.647675e-03  3.772525e-03  8.036563e-02\n",
      "278  1_medium  comment_embedding_349       1.0  3.274358e-02  3.288454e-02  1.182662e-01\n",
      "279  1_medium   comment_embedding_35       1.0 -4.161458e-03 -1.789638e-03  6.881882e-02\n",
      "280  1_medium  comment_embedding_350       1.0 -2.416227e-03 -4.381767e-03  7.815073e-02\n",
      "281  1_medium  comment_embedding_351       1.0  3.090302e-03  3.446613e-03  7.469948e-02\n",
      "282  1_medium  comment_embedding_352       1.0 -5.102517e-02 -4.977775e-02  2.675896e-02\n",
      "283  1_medium  comment_embedding_353       1.0  1.070059e-02  1.174242e-02  8.322733e-02\n",
      "284  1_medium  comment_embedding_354       1.0  6.695283e-03  7.527431e-03  8.401828e-02\n",
      "285  1_medium  comment_embedding_355       1.0 -3.139816e-03 -4.681726e-03  7.502595e-02\n",
      "286  1_medium  comment_embedding_356       1.0 -1.378468e-02 -1.420364e-02  7.068859e-02\n",
      "287  1_medium  comment_embedding_357       1.0  3.159950e-02  3.221628e-02  1.119503e-01\n",
      "288  1_medium  comment_embedding_358       1.0  2.642300e-02  2.656264e-02  1.003587e-01\n",
      "289  1_medium  comment_embedding_359       1.0 -5.516479e-03 -6.725753e-03  8.054994e-02\n",
      "290  1_medium   comment_embedding_36       1.0  2.938617e-02  3.032444e-02  1.061816e-01\n",
      "291  1_medium  comment_embedding_360       1.0 -1.679654e-02 -1.682268e-02  4.856594e-02\n",
      "292  1_medium  comment_embedding_361       1.0  3.488498e-03  5.137854e-03  8.323919e-02\n",
      "293  1_medium  comment_embedding_362       1.0  1.767791e-02  1.855052e-02  8.661535e-02\n",
      "294  1_medium  comment_embedding_363       1.0  1.331170e-02  1.313211e-02  7.169420e-02\n",
      "295  1_medium  comment_embedding_364       1.0 -2.275543e-04 -9.061772e-04  7.768492e-02\n",
      "296  1_medium  comment_embedding_365       1.0 -1.575187e-02 -1.590145e-02  5.498746e-02\n",
      "297  1_medium  comment_embedding_366       1.0 -2.827208e-02 -2.555332e-02  4.738682e-02\n",
      "298  1_medium  comment_embedding_367       1.0  2.926942e-02  3.095721e-02  1.101494e-01\n",
      "299  1_medium  comment_embedding_368       1.0  7.393438e-03  7.458189e-03  8.706268e-02\n",
      "300  1_medium  comment_embedding_369       1.0  1.255183e-02  1.147956e-02  8.902848e-02\n",
      "301  1_medium   comment_embedding_37       1.0  2.066067e-02  2.004333e-02  1.012213e-01\n",
      "302  1_medium  comment_embedding_370       1.0  1.017459e-02  9.602904e-03  8.498869e-02\n",
      "303  1_medium  comment_embedding_371       1.0  7.551324e-03  7.752063e-03  8.895756e-02\n",
      "304  1_medium  comment_embedding_372       1.0  5.053728e-03  1.832237e-03  8.412137e-02\n",
      "305  1_medium  comment_embedding_373       1.0  1.162481e-02  1.357535e-02  9.005474e-02\n",
      "306  1_medium  comment_embedding_374       1.0  4.021366e-02  4.022531e-02  1.177093e-01\n",
      "307  1_medium  comment_embedding_375       1.0 -1.733822e-02 -1.781036e-02  6.385609e-02\n",
      "308  1_medium  comment_embedding_376       1.0  6.708487e-03  7.277452e-03  7.584056e-02\n",
      "309  1_medium  comment_embedding_377       1.0  2.730565e-03  4.433671e-03  7.851813e-02\n",
      "310  1_medium  comment_embedding_378       1.0 -3.142222e-02 -3.029443e-02  4.269334e-02\n",
      "311  1_medium  comment_embedding_379       1.0  2.395631e-03  1.502066e-03  8.051205e-02\n",
      "312  1_medium   comment_embedding_38       1.0  2.243432e-02  2.237267e-02  9.800955e-02\n",
      "313  1_medium  comment_embedding_380       1.0  2.633180e-02  2.694774e-02  1.107235e-01\n",
      "314  1_medium  comment_embedding_381       1.0 -2.468418e-02 -2.521803e-02  5.921724e-02\n",
      "315  1_medium  comment_embedding_382       1.0  1.650698e-02  1.875042e-02  1.027392e-01\n",
      "316  1_medium  comment_embedding_383       1.0 -1.687980e-03 -1.923141e-04  6.683456e-02\n",
      "317  1_medium   comment_embedding_39       1.0 -1.304359e-02 -1.423219e-02  6.162954e-02\n",
      "318  1_medium    comment_embedding_4       1.0  1.917989e-02  2.006071e-02  9.654974e-02\n",
      "319  1_medium   comment_embedding_40       1.0  2.552371e-02  2.455914e-02  9.984419e-02\n",
      "320  1_medium   comment_embedding_41       1.0 -2.683291e-02 -2.640065e-02  5.583951e-02\n",
      "321  1_medium   comment_embedding_42       1.0 -1.337859e-02 -1.309942e-02  5.947030e-02\n",
      "322  1_medium   comment_embedding_43       1.0  8.781769e-03  8.841497e-03  8.052969e-02\n",
      "323  1_medium   comment_embedding_44       1.0 -1.250202e-02 -1.219062e-02  6.167239e-02\n",
      "324  1_medium   comment_embedding_45       1.0  1.584303e-03  1.254886e-04  7.475143e-02\n",
      "325  1_medium   comment_embedding_46       1.0 -1.087969e-02 -8.894918e-03  6.397537e-02\n",
      "326  1_medium   comment_embedding_47       1.0  6.134452e-03  5.833931e-03  8.227277e-02\n",
      "327  1_medium   comment_embedding_48       1.0 -1.543302e-02 -1.514634e-02  6.605600e-02\n",
      "328  1_medium   comment_embedding_49       1.0 -4.698009e-02 -4.651483e-02  3.498643e-02\n",
      "329  1_medium    comment_embedding_5       1.0  1.206132e-02  1.327140e-02  7.943461e-02\n",
      "330  1_medium   comment_embedding_50       1.0 -2.095684e-03 -2.795536e-03  8.380411e-02\n",
      "331  1_medium   comment_embedding_51       1.0  2.377405e-03  2.093870e-03  8.161975e-02\n",
      "332  1_medium   comment_embedding_52       1.0  6.950901e-03  1.001924e-02  8.085417e-02\n",
      "333  1_medium   comment_embedding_53       1.0 -2.038501e-02 -1.978257e-02  7.205034e-02\n",
      "334  1_medium   comment_embedding_54       1.0 -1.159742e-02 -1.168235e-02  6.374744e-02\n",
      "335  1_medium   comment_embedding_55       1.0 -1.768630e-02 -1.530649e-02  7.995723e-02\n",
      "336  1_medium   comment_embedding_56       1.0 -9.893798e-03 -9.604736e-03  6.055821e-02\n",
      "337  1_medium   comment_embedding_57       1.0  8.287057e-03  8.211986e-03  9.179977e-02\n",
      "338  1_medium   comment_embedding_58       1.0  1.303450e-02  1.169090e-02  8.448085e-02\n",
      "339  1_medium   comment_embedding_59       1.0  1.471557e-02  1.382713e-02  9.031765e-02\n",
      "340  1_medium    comment_embedding_6       1.0  9.340312e-03  1.074648e-02  8.770354e-02\n",
      "341  1_medium   comment_embedding_60       1.0  1.016973e-02  8.971284e-03  8.707760e-02\n",
      "342  1_medium   comment_embedding_61       1.0  6.321337e-03  6.806348e-03  8.318862e-02\n",
      "343  1_medium   comment_embedding_62       1.0  1.318799e-03  1.557751e-03  6.775957e-02\n",
      "344  1_medium   comment_embedding_63       1.0  8.348238e-03  6.211348e-03  7.073756e-02\n",
      "345  1_medium   comment_embedding_64       1.0  4.301811e-03  3.759913e-03  8.200425e-02\n",
      "346  1_medium   comment_embedding_65       1.0  6.877659e-03  7.002479e-03  8.833034e-02\n",
      "347  1_medium   comment_embedding_66       1.0 -7.121501e-03 -6.578460e-03  6.168226e-02\n",
      "348  1_medium   comment_embedding_67       1.0 -1.309579e-03 -1.819351e-03  7.717660e-02\n",
      "349  1_medium   comment_embedding_68       1.0 -2.504315e-02 -2.427918e-02  6.673992e-02\n",
      "350  1_medium   comment_embedding_69       1.0  2.190225e-02  2.205719e-02  1.085004e-01\n",
      "351  1_medium    comment_embedding_7       1.0 -3.138919e-02 -3.018489e-02  4.399595e-02\n",
      "352  1_medium   comment_embedding_70       1.0  2.441421e-02  2.524031e-02  1.076576e-01\n",
      "353  1_medium   comment_embedding_71       1.0  2.270037e-02  2.505937e-02  9.606840e-02\n",
      "354  1_medium   comment_embedding_72       1.0  2.221229e-02  2.182572e-02  1.003307e-01\n",
      "355  1_medium   comment_embedding_73       1.0  1.620749e-02  1.740556e-02  9.696800e-02\n",
      "356  1_medium   comment_embedding_74       1.0 -1.471184e-02 -1.292349e-02  6.822989e-02\n",
      "357  1_medium   comment_embedding_75       1.0 -1.434480e-02 -1.187340e-02  6.626513e-02\n",
      "358  1_medium   comment_embedding_76       1.0  1.922384e-02  1.702902e-02  1.030488e-01\n",
      "359  1_medium   comment_embedding_77       1.0  1.892883e-02  1.980809e-02  1.062398e-01\n",
      "360  1_medium   comment_embedding_78       1.0  2.200278e-02  2.281344e-02  1.038772e-01\n",
      "361  1_medium   comment_embedding_79       1.0 -1.445112e-02 -1.546026e-02  6.115121e-02\n",
      "362  1_medium    comment_embedding_8       1.0 -9.056660e-03 -8.898385e-03  7.297150e-02\n",
      "363  1_medium   comment_embedding_80       1.0  1.927819e-02  2.037144e-02  9.731589e-02\n",
      "364  1_medium   comment_embedding_81       1.0 -1.547245e-02 -1.768458e-02  7.098369e-02\n",
      "365  1_medium   comment_embedding_82       1.0  5.436713e-03  5.682569e-03  8.417106e-02\n",
      "366  1_medium   comment_embedding_83       1.0 -1.151033e-03 -3.032526e-03  7.398756e-02\n",
      "367  1_medium   comment_embedding_84       1.0  1.620712e-02  1.410230e-02  9.635960e-02\n",
      "368  1_medium   comment_embedding_85       1.0 -2.429919e-02 -2.249510e-02  4.400929e-02\n",
      "369  1_medium   comment_embedding_86       1.0 -1.453343e-02 -1.617059e-02  6.196763e-02\n",
      "370  1_medium   comment_embedding_87       1.0 -3.228949e-02 -3.177861e-02  4.183207e-02\n",
      "371  1_medium   comment_embedding_88       1.0  6.178889e-03  9.279854e-03  8.915985e-02\n",
      "372  1_medium   comment_embedding_89       1.0  1.500647e-02  1.383550e-02  9.012726e-02\n",
      "373  1_medium    comment_embedding_9       1.0 -2.114457e-04  1.102584e-03  7.557758e-02\n",
      "374  1_medium   comment_embedding_90       1.0 -2.662917e-02 -2.282832e-02  5.635687e-02\n",
      "375  1_medium   comment_embedding_91       1.0  1.418220e-03  2.911547e-03  8.050664e-02\n",
      "376  1_medium   comment_embedding_92       1.0  4.275945e-02  4.295612e-02  1.344118e-01\n",
      "377  1_medium   comment_embedding_93       1.0 -1.716456e-02 -1.787239e-02  6.183403e-02\n",
      "378  1_medium   comment_embedding_94       1.0  1.133733e-02  1.245534e-02  8.856399e-02\n",
      "379  1_medium   comment_embedding_95       1.0 -1.500222e-02 -1.764159e-02  6.689828e-02\n",
      "380  1_medium   comment_embedding_96       1.0 -1.585459e-02 -1.917198e-02  7.074093e-02\n",
      "381  1_medium   comment_embedding_97       1.0  1.680436e-02  1.581685e-02  9.366367e-02\n",
      "382  1_medium   comment_embedding_98       1.0 -4.698864e-02 -4.655159e-02  3.033210e-02\n",
      "383  1_medium   comment_embedding_99       1.0  2.805426e-02  2.764009e-02  8.841469e-02\n"
     ]
    }
   ],
   "source": [
    "print(summaries[0])"
   ]
  },
  {
   "attachments": {},
   "cell_type": "markdown",
   "metadata": {},
   "source": [
    "## Compute Drift\n",
    "\n",
    "For each partition after the first 5 partitions, we compute the drift between the partition and historical partitions."
   ]
  },
  {
   "cell_type": "code",
   "execution_count": 12,
   "metadata": {},
   "outputs": [],
   "source": [
    "partition_names = [s.partition for s in summaries]"
   ]
  },
  {
   "cell_type": "code",
   "execution_count": 13,
   "metadata": {},
   "outputs": [
    {
     "name": "stdout",
     "output_type": "stream",
     "text": [
      "Checking partition 9_high...\n",
      "Drift detected in partition 9_high!\n",
      "Checking partition 9_low...\n",
      "Drift detected in partition 9_low!\n"
     ]
    }
   ],
   "source": [
    "drifted_partitions = {}\n",
    "\n",
    "for i in range(len(summaries)-2, len(summaries)):\n",
    "    print(f\"Checking partition {partition_names[i]}...\")\n",
    "    drift_results = detect_drift(summaries[i], summaries[:i])    \n",
    "    if drift_results.score_percentile > 0.85: # We use this instead of is_drifted since is_drifted's threshold is 95th percentile, and we want to be less strict since we only have 10 partitions\n",
    "        print(f\"Drift detected in partition {partition_names[i]}!\")\n",
    "        drifted_partitions[partition_names[i]] = drift_results"
   ]
  },
  {
   "attachments": {},
   "cell_type": "markdown",
   "metadata": {},
   "source": [
    "## Inspect Drift Results\n",
    "\n",
    "For the high and low toxicity partitions, we can print out the top drifted columns and drift score."
   ]
  },
  {
   "cell_type": "code",
   "execution_count": 14,
   "metadata": {},
   "outputs": [
    {
     "name": "stdout",
     "output_type": "stream",
     "text": [
      "9_high\n",
      "Drift score: 78.3159 (100.00% percentile)\n",
      "Top drifted columns:\n",
      "                          statistic   z-score\n",
      "column                                       \n",
      "toxicity                        p50  2.666667\n",
      "rating             occurrence_ratio -2.644178\n",
      "comment_embedding              mean  1.909929\n"
     ]
    }
   ],
   "source": [
    "def get_summary(partition_name):\n",
    "    for summary in summaries:\n",
    "        if summary.partition == partition_name:\n",
    "            return summary\n",
    "    return None\n",
    "\n",
    "\n",
    "partition_name = list(drifted_partitions.keys())[0]\n",
    "print(partition_name)\n",
    "drift_results_high = drifted_partitions[partition_name]\n",
    "print(drift_results_high)"
   ]
  },
  {
   "cell_type": "code",
   "execution_count": 15,
   "metadata": {},
   "outputs": [
    {
     "name": "stdout",
     "output_type": "stream",
     "text": [
      "9_low\n",
      "Drift score: 57.4154 (88.89% percentile)\n",
      "Top drifted columns:\n",
      "                          statistic   z-score\n",
      "column                                       \n",
      "toxicity                        p95 -2.716521\n",
      "comment_embedding              mean  1.415445\n",
      "rating             occurrence_ratio  1.197798\n"
     ]
    }
   ],
   "source": [
    "partition_name = list(drifted_partitions.keys())[1]\n",
    "print(partition_name)\n",
    "drift_results_low = drifted_partitions[partition_name]\n",
    "print(drift_results_low)"
   ]
  },
  {
   "attachments": {},
   "cell_type": "markdown",
   "metadata": {},
   "source": [
    "### Look at Drifted Embeddings for High Toxicity Partition\n",
    "\n",
    "In the drifted partition, we can identify the cluster of embeddings that diverged most from its values in historical partitions.\n",
    "\n",
    "`drifted_examples` represents the examples in the drifted partition. `corresponding_examples` represents the examples in the historical partitions."
   ]
  },
  {
   "cell_type": "code",
   "execution_count": 16,
   "metadata": {},
   "outputs": [],
   "source": [
    "result = drift_results_high.drifted_examples(\"comment_text\")\n",
    "drifted_examples = result[\"drifted_examples\"]\n",
    "corresponding_examples = result[\"corresponding_examples\"]"
   ]
  },
  {
   "cell_type": "code",
   "execution_count": 17,
   "metadata": {},
   "outputs": [
    {
     "data": {
      "text/plain": [
       "['Many bishops running the church now were elevated by a man so depraved and perverse he spent decades protecting child rapists internationally.  And they deified him when he finally died.  They are sick and twisted and are led by a sick and twisted little man masquerading as a saint.',\n",
       " 'This bible thumping imbecile is a disgrace to Indiana my home state.  He signed a so-called \"Religious Freedom\" bill that almost killed Indianapolis\\' large convention business until it was repealed.  Senator Corker can add one more to the \"White House Adult Daycare\" roster.',\n",
       " 'Lord, what a tedious, tiresome, transparently deceptive and misleading troll you are.  Are you so delusional that you cannot see by the reactions of other posters that nobody is buying your repetitive and specious spins?  Obviously, Cassie (or whomever you are) your only recourse here is to go on the offensive and attack the reporters and the opposition with blatant lies and misleading out of context drive by smears.  You are certainly succeeding in being offensive, very offensive, but this is one pig that not even you can put lipstick on.   Give it rest.  Maybe run away for a week or so like Trudeau did.',\n",
       " 'Yes, this is the part the biggest fools in the country continue to overlook, even the stories in this very publication that spell out the facts to them go whistling right past their heads because- \"Native\", so automatically inferior. No effort to read the real history or understand the processes that turned complex, industrious societies into wards of the state fighting for their independence. They wouldn\\'t even recognize a passage in the very Indian Act that granted them the right to feel so superior.',\n",
       " 'The idiots are the ones who buy into politicized \"science\". There is no scientific integrity left in the agenda of AGW--of I\\'m sorry, \"climate change\". Or perhaps you can explain every single model (hypotheses) of AGW being wrong? Good science would change the hypothesis, AGW politicized false science just changes the name to global climate disruption when global temperatures failed to rise in spite of the highest levels of CO2 in the atmosphere in known history. 🙄',\n",
       " \"It takes about one minute to walk from the center of the downtown core to its edge and back. That would still leave a smoking addict nine minutes of a ten minute break to smoke a cigarette. Betty Taylor either can't do simple arithmetic, walks incredibly slowly, or is being disingenuous in her comment. I certainly can expect an employee to walk less than a thousand feet during a ten minute break. \\n\\nI really don't care of the clown car city council passes a downtown smoking ban or not. I'm still not likely to venture downtown very much simply because it is unsafe, unpleasant and filthy. Good grief, we've got a white supremacist bar and a library that functions as a homeless shelter and white supremacist recruitment center. It would be nice of the clowns on the city council would get out of their bubbles once in a while.\",\n",
       " 'Part 1......................The income equality and social justice promised by globalists is the big lie of the 21st century that is duping the useful idiots in the Western world. Globalism is not new - it was described unapologetically in chilling detail by Lord Bertrand Russell in his 1952 book The Impact of Science on Society. Far from providing income equality and social justice the one-world government of the New World Order (NWO) is a binary socio-political system of masters and slaves.   CONT......',\n",
       " 'all true.  It is just saD TO SEE Trump lie and manipulate ignorant voters so easily.  It shows what a tyrant can do to take control.  Coal is being phased out everywhere, even in China where Chinese are choking and coughing and dying far too early.  Reality time for Trump!',\n",
       " 'Rude and ignorant is trying to discredit what was an informative investment article that contained no factual errors, showed no bias, or attempt to mislead.',\n",
       " 'tdm,, as left wings idiot']"
      ]
     },
     "execution_count": 17,
     "metadata": {},
     "output_type": "execute_result"
    }
   ],
   "source": [
    "drifted_examples[embedding_key].to_list()"
   ]
  },
  {
   "cell_type": "code",
   "execution_count": 18,
   "metadata": {},
   "outputs": [
    {
     "data": {
      "text/plain": [
       "['And by the way, there is no \"Palestinian\" land, as there are no Palestinians - they are Jordanians and Egyptians, who were not welcomed in either country, huddled under an umbrella and named Palestinians by the terrorist Arafat, who cleverly realized that he\\'d get no traction for his cause of pushing every Jew into the sea in favour of \"displaced\" Arab Muslims that their home countries didn\\'t want.',\n",
       " 'That was the critical difference between Trump\\'s ban on 6 countries and Obama\\'s list of 7 countries for vetting people from all countries who may have visited any of the 7 countries. But Obama did not have a complete ban on any countries and that plus the statements that we were going to ban Muslims and Muslim countries from coming to the US. That is why Trump\\'s ban ran into constitutional issues-- he could have just had a vetting list instead of a total van on everyone from a country. Also remember that the Court ordered \"block\" on the van is only temporary until the actual case is completed by trial (and any appeals from the trial).',\n",
       " \"ITS A RACE BATING GAME TO AVOID THE TRUTH AND FACTS.WE ALL KNOW; ISLAM ENCOURAGES THE RAPE AND BEATING OF WOMEN ESPECIALLY NON MUSLIMS.. ITS A RIGHT THEY FEEL THEY HAVE. TORONTO.  SERIAL RAPIST WAS MUSLIM 1000 WOMEN HE RAPED. THIS ARTICLE IS SMOKE AND MIRRORS. WE ARE NOT STUPID. #BlackLivesMatter dont let them pander to you! this is not a color thing this is a religious culture issue that the left is using you to hide. wake up Black Men. Don't take the bait.\",\n",
       " 'Explain then why Saudi Arabia is not on Trumpy\\'s list? They are one of THE primary stokers of \"radical Islam\" on Earth. And they get a pass. \\n\\nOh...they do business with POTUS & family in addition to buying billions in American made weaponry',\n",
       " \"That is where it will get you for criticizing Trump and championing women's rights ...\\n\\nAnyway, fratricide is the norm in the religion of peace for 1,400 years. When a new Kaliph was chosen, it was his duty to slay all 20 or so of his siblings. Lucky ones simply had their eyes gouged out.\\n\\nHere is a peep of the process that instills violence ...\\n\\nhttps://www.youtube.com/watch?v=MOcx9wLBVi4\\nhttps://www.youtube.com/watch?v=nZSixuZa8HU\\nhttps://www.youtube.com/watch?v=0Lvdv_4polk\\n\\nSoon coming to a neighbourhood near you ..... if already not there.\",\n",
       " 'ISIS is hardly a major threat and would be no threat at all if anti-Muslim belligerence would end. The talk is unbelievable and, largely, founded on lies. People spew about things they do not understand. Any fool can tell that someone angry about the murder of Muslims will hear this stuff and, before you know it, do everything they can to retaliate.\\n\\nThe thing is, if the \"war on terrorism\" is going to be won, all people, including stupid ones, must look for the best in people and expect the best. Find ways to change your values. Accept that you might actually know next to nothing about Islam, or Christianity, or of any particular group or any particular faith.\\n\\nJust try to show us the good that is in you.',\n",
       " \"Sorry but I'd take O'Weary one any of those you mention. Another PQ guy, no thanks and I want someone who is against carbon tax of any nature and has not succumbed to the islamophobia hysteria.\",\n",
       " \">>The Liberals are buying into the smiley-faced, painted lips of Islamism, and it's a slippery slope.\\n\\nLiberals are being Taqiya-zed. Dragging the rest of Canada with them.\",\n",
       " \"When a Muslim mows down people with a truck or goes on a shooting spree all we hear is that it was an isolated mental case, lone wolf, nothing to do with religion of peace etc...\\nHere we have an obviously very disturbed your men who did some horrible thing and suddenly entire country is guilty of Islamophobia and we are all guilty??\\nLet's get some perspective people!!\",\n",
       " \"Good job Alceste, now you got Duke deleted.  Duke, please come back.  I had my account deleted like five times and finally came back to life.  You just have to be careful what you say.  The liberals and the censors don't like people pointing out that Islam is anti-woman and anti-gay.  They don't want you to point out that they treat women as second class citizens, force them to cover themselves, and that they throw gays off buildings.  If you stay away from saying those things you will be OK.  (So, delete this comment after you read it.)\"]"
      ]
     },
     "execution_count": 18,
     "metadata": {},
     "output_type": "execute_result"
    }
   ],
   "source": [
    "corresponding_examples[embedding_key].to_list()"
   ]
  },
  {
   "attachments": {},
   "cell_type": "markdown",
   "metadata": {},
   "source": [
    "It looks like the Trump-related comments have drifted to be more toxic!\n",
    "\n",
    "We can do the same thing from the low toxicity partition. But the results don't make as much sense here."
   ]
  },
  {
   "cell_type": "code",
   "execution_count": 19,
   "metadata": {},
   "outputs": [],
   "source": [
    "result = drift_results_low.drifted_examples(\"comment_text\")\n",
    "drifted_examples = result[\"drifted_examples\"]\n",
    "corresponding_examples = result[\"corresponding_examples\"]"
   ]
  },
  {
   "cell_type": "code",
   "execution_count": 20,
   "metadata": {},
   "outputs": [
    {
     "data": {
      "text/plain": [
       "['Yes. \"We need more facts, less extreme vetting.\"  And part of any call for more fact-based public discourse should involve de-emphasizing public image, glamour, and so on since these things distract from the facts.\\n\\nSo maybe M.H. could ease up on the image game and the personal branding? The hair, the outfits, oy vey.  It\\'s a distraction, self-centered, irrelevant to the issues she discusses and the cases she\\'s involved in.  Vapid image culture is one of the reasons we end up with the Trump\\'s and O\\' Leary\\'s. Their brands are known. It\\'s tiresome.',\n",
       " 'I agree, there are others...Bernie Madoff, Leona Hemsley, El Chapo, Pablo Escobar,\\nSatan, Idi Amin, Putin, Duarte, and the grinch who stole Christmas.',\n",
       " \"So God hasn't abandoned us and we can of our own volition to return to Him. That doesn't mean we won't reap the consequences of our foolish political decisions and live through a time that that will cause many in the nation to reevaluate their abandonment of God's way of doing things. You know, they say there are no atheists in fox holes and there are fewer atheists in times of economic meltdown, societal fracture and political tyranny. That's coming. The quality of the available candidates tells us that.\\n\\nSo, voting for the lesser of two evils, I'm voting 3rd party. I don't LOVE Gary Johnson of the Libertarian Party, but I think he'll do less harm to the country than either Hillary or Trump and the change of principles should do us some good by forcing us to actually think about our choices.\\n\\nThat and the Libertarian Party hasn't been in power, so is less likely to have been bought off yet.\\n\\nI don't care who people vote for, but it is time to end the two major parties' stranglehold.\",\n",
       " 'Gary, \\n\\nWe are a representative republic with inalienable rights that do not need to be granted. We a are born with them as individuals. The Constitution actually grants limited powers from the People to the federal government, not rights to people. \\n\\nTake the argument against smokers and instead of non-smokers substitute the words \"southern whites\" and replace smokers with \"black people\" and second hand smoke with \"body odor and germs\" and some of the arguments put forward would have fit in with defending white lunch counters and \"separate but equal\" by an early 60\\'s dixiecrat. The Constitution and Bill of Rights are about protecting individual rights even if that individual is the member of an unpopular and disadvantaged minority.',\n",
       " \"Many people voted for Trump because the DNC didn't allow a  real choice.\",\n",
       " 'This does not pass the sniff test. Canadians are not ready to give the Liberals such a long leash. Too many opportunities to pass around brown paper bags.',\n",
       " 'I think the next poll should be on leadership accountability and whether or not Trudeau and Morneau should be required to disclose how they are benefiting from Family Trusts (conveniently, something that is not being addressed in these new tax changes).',\n",
       " \"Your side lost the election because they're fundamentally dishonest.  The proof:  You call everyone who voted for Trump a fascist.  You can't rationally believe what you say.  The day you regain your credibility is the day you may begin to win elections again.\",\n",
       " '\"Screaming anger in a newspaper will get you nowhere, I regret to tell all of you above this Comment\".\\n\\nTrue. I plan to let the Senate know that I expect them to suspend him without pay permanently. Call, email, tweet, we all need to hold elected officials, and these unelected ones, a lot more accountable.',\n",
       " \"It could also come out that the moon is made of green cheese . . .\\nBut more to the point, where were Democrats on the vulnerability of electronic voting machines when their candidates were winning elections and reports of vote tampering were being reported?  Oh, that's right, you were the ones pointing out that it was impossible to hack those machines, that the reports were nothing more than sour grapes because the Republicans were losing elections and the party was close to extinction.\"]"
      ]
     },
     "execution_count": 20,
     "metadata": {},
     "output_type": "execute_result"
    }
   ],
   "source": [
    "drifted_examples[embedding_key].to_list()"
   ]
  },
  {
   "cell_type": "code",
   "execution_count": 21,
   "metadata": {},
   "outputs": [
    {
     "data": {
      "text/plain": [
       "['Adultery as defined by Jesus is in the Decalogue. \\n\\nSome rigorists and legalists are forever defining down the Word of God, which is the whole of the Bible. \\n\\nThe error runs like this:\\n\\nbut where is that in the Scripture?\\nbut the old testament is \"old\" and as everyone knows has been replaced by the new testament; so where in the new testament is that said?\\nbut much of the new testament was written by people who never knew Jesus\\nso where in the Gospels is that said?\\nbut we don\\'t really know who wrote all the gospels\\nso where did Jesus Himself say that....precisely that?',\n",
       " 'Has Trudeau asked the leaders of other denominations, or are only Catholics guilty?',\n",
       " 'Pope Francis has been pretty awful on women.  It is clear he has the same old fashioned attitudes about women that his predecessors have, especially with his weird fixation on \"gender theory\" and \"gender ideology.\"  Women may be valuable in sprinkling mommy dust over the society and should be included because of that but heaven forbid a woman actual not be a sweet, fluffy, and nurturing figure.',\n",
       " 'By that reasoning, ordination in the Orthodox Church is equally false.',\n",
       " \"American evangelicals, oddly, seem to love people getting killed.  But only after they're born, of course.\",\n",
       " 'This must be the work of Satan.  They probably rejected Christianity as being a \"white man\\'s religion\".',\n",
       " 'If the Quebec law is an unacceptable infringement on religious freedoms, on what basis does the Globe support bans on religiously-inspired polygamy?',\n",
       " '\"... Whatever differences there are among the libertarians is less important to the pope than what they share, an inflated understanding of the autonomous self that distorts their anthropology and an outsized commitment to liberty at the expense of the common good. This whole discussion about the varieties of libertarianism is a dodge.\"\\n\\nI find it very difficult to understand why a Christian (Catholic, Episcopalian, Baptist, or even Unitarian) could throw in with Libertarianism.  I have, for the past 40 years, seen it as a much worse philosophy than Communism as articulated by Marx and Engels (I\\'m not wild about them either).  At the heart of Communism, at its founding, there was sympathy for the plight of the worker.  As it evolved (via Lenin and Stalin) it didn\\'t work out at all, but at least Communism grew out of a concern for others.  \\n\\nIn my opinion, the Church should spend as much time fighting Libertarianism as it did fighting Communism.',\n",
       " \"Yes. It affects issues from clerical continence to the marital chastity called for but not explained in Castt and HV, as well as the concept of concupesciese being a vice. A little sensuality in marital intercourse keeps things interesting. Women deserve climax. Celibate hetero and homo priests would know that. Only the asexual celibates are seeking some kind of divine purity from us civilians, which is their flaw, not ours. Of course, I don't expect you or them to think outside that box, at least until outed. I rarely call it a deviation accept to attract some attention to it as not what you would consider part of the natural order (which I still denounce as a sophistry). But if you accept it, then, yes, asexuals in the clergy are deviant and must face it rather than denying it, if only so they know they must modulate their message for the rest of us.\",\n",
       " 'This pattern of \"ministry\" is a set-up for covert priestly marriages and relationships of all sorts.  And the Irish bishops and their Vatican overlords can no longer avoid shouldering the blame.']"
      ]
     },
     "execution_count": 21,
     "metadata": {},
     "output_type": "execute_result"
    }
   ],
   "source": [
    "corresponding_examples[embedding_key].to_list()"
   ]
  },
  {
   "cell_type": "code",
   "execution_count": null,
   "metadata": {},
   "outputs": [],
   "source": []
  }
 ],
 "metadata": {
  "kernelspec": {
   "display_name": "dataval",
   "language": "python",
   "name": "python3"
  },
  "language_info": {
   "codemirror_mode": {
    "name": "ipython",
    "version": 3
   },
   "file_extension": ".py",
   "mimetype": "text/x-python",
   "name": "python",
   "nbconvert_exporter": "python",
   "pygments_lexer": "ipython3",
   "version": "3.8.16"
  },
  "orig_nbformat": 4
 },
 "nbformat": 4,
 "nbformat_minor": 2
}
