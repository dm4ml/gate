{
 "cells": [
  {
   "attachments": {},
   "cell_type": "markdown",
   "metadata": {},
   "source": [
    "# Detecting Drift in Text Data\n",
    "\n",
    "Here, we load the civilcomments dataset; a dataset of comments from the Civil Comments platform. The dataset is available on [Kaggle](https://www.kaggle.com/c/jigsaw-unintended-bias-in-toxicity-classification/data). We use the prepackaged loaders in the WILDS library to load the dataset."
   ]
  },
  {
   "cell_type": "code",
   "execution_count": 1,
   "metadata": {},
   "outputs": [],
   "source": [
    "!pip install wilds --quiet"
   ]
  },
  {
   "cell_type": "code",
   "execution_count": 2,
   "metadata": {},
   "outputs": [],
   "source": [
    "%load_ext autoreload\n",
    "%autoreload 2"
   ]
  },
  {
   "cell_type": "code",
   "execution_count": 3,
   "metadata": {},
   "outputs": [
    {
     "name": "stderr",
     "output_type": "stream",
     "text": [
      "/Users/shreyashankar/miniforge3/envs/dataval/lib/python3.8/site-packages/tqdm/auto.py:21: TqdmWarning: IProgress not found. Please update jupyter and ipywidgets. See https://ipywidgets.readthedocs.io/en/stable/user_install.html\n",
      "  from .autonotebook import tqdm as notebook_tqdm\n"
     ]
    }
   ],
   "source": [
    "from gate import summarize, detect_drift\n",
    "from wilds import get_dataset\n",
    "\n",
    "import numpy as np\n",
    "import os\n",
    "import pandas as pd"
   ]
  },
  {
   "cell_type": "code",
   "execution_count": 4,
   "metadata": {},
   "outputs": [],
   "source": [
    "raw_dataset = get_dataset(\n",
    "    dataset=\"civilcomments\", download=True, root_dir=\"data\"\n",
    ")\n",
    "df = pd.read_csv(\n",
    "    os.path.join(\n",
    "        \"data\", \"civilcomments_v1.0\", \"all_data_with_identities.csv\"\n",
    "    )\n",
    ")\n",
    "# df[\"created_date\"] = pd.to_datetime(df[\"created_date\"], format='mixed')\n",
    "\n",
    "# Sample 10,000 rows from the dataset\n",
    "df = df.sample(n=10000, random_state=42).reset_index(drop=True)"
   ]
  },
  {
   "attachments": {},
   "cell_type": "markdown",
   "metadata": {},
   "source": [
    "To create partitions, we can look at the toxicity levels of the comments."
   ]
  },
  {
   "cell_type": "code",
   "execution_count": 86,
   "metadata": {},
   "outputs": [
    {
     "data": {
      "text/plain": [
       "<Axes: >"
      ]
     },
     "execution_count": 86,
     "metadata": {},
     "output_type": "execute_result"
    },
    {
     "data": {
      "image/png": "[encoded data removed]",
      "text/plain": [
       "<Figure size 640x480 with 1 Axes>"
      ]
     },
     "metadata": {},
     "output_type": "display_data"
    }
   ],
   "source": [
    "df[\"toxicity\"].hist(bins=20)"
   ]
  },
  {
   "attachments": {},
   "cell_type": "markdown",
   "metadata": {},
   "source": [
    "We'll create 10 partitions; one with low toxicity levels, one with high toxicity levels, and the other 8 with a random mix of toxicity levels."
   ]
  },
  {
   "cell_type": "code",
   "execution_count": 159,
   "metadata": {},
   "outputs": [
    {
     "data": {
      "text/html": [
       "<div>\n",
       "<style scoped>\n",
       "    .dataframe tbody tr th:only-of-type {\n",
       "        vertical-align: middle;\n",
       "    }\n",
       "\n",
       "    .dataframe tbody tr th {\n",
       "        vertical-align: top;\n",
       "    }\n",
       "\n",
       "    .dataframe thead th {\n",
       "        text-align: right;\n",
       "    }\n",
       "</style>\n",
       "<table border=\"1\" class=\"dataframe\">\n",
       "  <thead>\n",
       "    <tr style=\"text-align: right;\">\n",
       "      <th></th>\n",
       "      <th>Unnamed: 0</th>\n",
       "      <th>id</th>\n",
       "      <th>comment_text</th>\n",
       "      <th>split</th>\n",
       "      <th>created_date</th>\n",
       "      <th>publication_id</th>\n",
       "      <th>parent_id</th>\n",
       "      <th>article_id</th>\n",
       "      <th>rating</th>\n",
       "      <th>funny</th>\n",
       "      <th>...</th>\n",
       "      <th>identity_any</th>\n",
       "      <th>num_identities</th>\n",
       "      <th>more_than_one_identity</th>\n",
       "      <th>na_gender</th>\n",
       "      <th>na_orientation</th>\n",
       "      <th>na_religion</th>\n",
       "      <th>na_race</th>\n",
       "      <th>na_disability</th>\n",
       "      <th>partition</th>\n",
       "      <th>comment_embedding</th>\n",
       "    </tr>\n",
       "  </thead>\n",
       "  <tbody>\n",
       "    <tr>\n",
       "      <th>0</th>\n",
       "      <td>315698</td>\n",
       "      <td>5041802</td>\n",
       "      <td>Thank you Stephanie, great post. You should be...</td>\n",
       "      <td>train</td>\n",
       "      <td>2017-03-23 02:09:07.887924+00</td>\n",
       "      <td>55</td>\n",
       "      <td>NaN</td>\n",
       "      <td>320734</td>\n",
       "      <td>approved</td>\n",
       "      <td>0</td>\n",
       "      <td>...</td>\n",
       "      <td>0</td>\n",
       "      <td>0.0</td>\n",
       "      <td>False</td>\n",
       "      <td>1</td>\n",
       "      <td>1</td>\n",
       "      <td>1</td>\n",
       "      <td>1</td>\n",
       "      <td>1</td>\n",
       "      <td>9_low</td>\n",
       "      <td>[0.031065112, 0.09312947, 0.03264505, -0.05552...</td>\n",
       "    </tr>\n",
       "    <tr>\n",
       "      <th>1</th>\n",
       "      <td>205291</td>\n",
       "      <td>5924876</td>\n",
       "      <td>Poor, poor us! We're so abused! Give it a brea...</td>\n",
       "      <td>train</td>\n",
       "      <td>2017-09-09 14:08:31.131728+00</td>\n",
       "      <td>54</td>\n",
       "      <td>5923381.0</td>\n",
       "      <td>375645</td>\n",
       "      <td>rejected</td>\n",
       "      <td>0</td>\n",
       "      <td>...</td>\n",
       "      <td>1</td>\n",
       "      <td>1.0</td>\n",
       "      <td>False</td>\n",
       "      <td>0</td>\n",
       "      <td>1</td>\n",
       "      <td>1</td>\n",
       "      <td>1</td>\n",
       "      <td>1</td>\n",
       "      <td>3_medium</td>\n",
       "      <td>[0.05765602, 0.029650187, 0.05835239, 0.062011...</td>\n",
       "    </tr>\n",
       "    <tr>\n",
       "      <th>2</th>\n",
       "      <td>98697</td>\n",
       "      <td>5926727</td>\n",
       "      <td>Yeah, as we've gotten so used to with the Rock...</td>\n",
       "      <td>train</td>\n",
       "      <td>2017-09-09 20:35:55.150162+00</td>\n",
       "      <td>102</td>\n",
       "      <td>5924578.0</td>\n",
       "      <td>375714</td>\n",
       "      <td>approved</td>\n",
       "      <td>0</td>\n",
       "      <td>...</td>\n",
       "      <td>0</td>\n",
       "      <td>0.0</td>\n",
       "      <td>False</td>\n",
       "      <td>1</td>\n",
       "      <td>1</td>\n",
       "      <td>1</td>\n",
       "      <td>1</td>\n",
       "      <td>1</td>\n",
       "      <td>9_low</td>\n",
       "      <td>[-0.084617205, 0.0032314418, -0.036742188, -0....</td>\n",
       "    </tr>\n",
       "    <tr>\n",
       "      <th>3</th>\n",
       "      <td>42002</td>\n",
       "      <td>5785459</td>\n",
       "      <td>If your actions thereby assist Sears' failure,...</td>\n",
       "      <td>test</td>\n",
       "      <td>2017-08-17 04:15:42.186750+00</td>\n",
       "      <td>54</td>\n",
       "      <td>5785299.0</td>\n",
       "      <td>367422</td>\n",
       "      <td>approved</td>\n",
       "      <td>0</td>\n",
       "      <td>...</td>\n",
       "      <td>0</td>\n",
       "      <td>0.0</td>\n",
       "      <td>False</td>\n",
       "      <td>1</td>\n",
       "      <td>1</td>\n",
       "      <td>1</td>\n",
       "      <td>1</td>\n",
       "      <td>1</td>\n",
       "      <td>9_low</td>\n",
       "      <td>[-0.055978727, 0.0151619455, 0.055784963, -0.0...</td>\n",
       "    </tr>\n",
       "    <tr>\n",
       "      <th>4</th>\n",
       "      <td>385519</td>\n",
       "      <td>5240478</td>\n",
       "      <td>It is indeed a balancing act, but by supportin...</td>\n",
       "      <td>train</td>\n",
       "      <td>2017-05-10 22:34:47.727569+00</td>\n",
       "      <td>53</td>\n",
       "      <td>5238832.0</td>\n",
       "      <td>333501</td>\n",
       "      <td>approved</td>\n",
       "      <td>0</td>\n",
       "      <td>...</td>\n",
       "      <td>1</td>\n",
       "      <td>2.0</td>\n",
       "      <td>True</td>\n",
       "      <td>0</td>\n",
       "      <td>1</td>\n",
       "      <td>0</td>\n",
       "      <td>1</td>\n",
       "      <td>1</td>\n",
       "      <td>8_medium</td>\n",
       "      <td>[0.027282983, -0.0051007248, 0.030560734, 0.00...</td>\n",
       "    </tr>\n",
       "  </tbody>\n",
       "</table>\n",
       "<p>5 rows × 61 columns</p>\n",
       "</div>"
      ],
      "text/plain": [
       "   Unnamed: 0       id                                       comment_text   \n",
       "0      315698  5041802  Thank you Stephanie, great post. You should be...  \\\n",
       "1      205291  5924876  Poor, poor us! We're so abused! Give it a brea...   \n",
       "2       98697  5926727  Yeah, as we've gotten so used to with the Rock...   \n",
       "3       42002  5785459  If your actions thereby assist Sears' failure,...   \n",
       "4      385519  5240478  It is indeed a balancing act, but by supportin...   \n",
       "\n",
       "   split                   created_date  publication_id  parent_id   \n",
       "0  train  2017-03-23 02:09:07.887924+00              55        NaN  \\\n",
       "1  train  2017-09-09 14:08:31.131728+00              54  5923381.0   \n",
       "2  train  2017-09-09 20:35:55.150162+00             102  5924578.0   \n",
       "3   test  2017-08-17 04:15:42.186750+00              54  5785299.0   \n",
       "4  train  2017-05-10 22:34:47.727569+00              53  5238832.0   \n",
       "\n",
       "   article_id    rating  funny  ...  identity_any  num_identities   \n",
       "0      320734  approved      0  ...             0             0.0  \\\n",
       "1      375645  rejected      0  ...             1             1.0   \n",
       "2      375714  approved      0  ...             0             0.0   \n",
       "3      367422  approved      0  ...             0             0.0   \n",
       "4      333501  approved      0  ...             1             2.0   \n",
       "\n",
       "   more_than_one_identity  na_gender  na_orientation  na_religion  na_race   \n",
       "0                   False          1               1            1        1  \\\n",
       "1                   False          0               1            1        1   \n",
       "2                   False          1               1            1        1   \n",
       "3                   False          1               1            1        1   \n",
       "4                    True          0               1            0        1   \n",
       "\n",
       "   na_disability  partition                                  comment_embedding  \n",
       "0              1      9_low  [0.031065112, 0.09312947, 0.03264505, -0.05552...  \n",
       "1              1   3_medium  [0.05765602, 0.029650187, 0.05835239, 0.062011...  \n",
       "2              1      9_low  [-0.084617205, 0.0032314418, -0.036742188, -0....  \n",
       "3              1      9_low  [-0.055978727, 0.0151619455, 0.055784963, -0.0...  \n",
       "4              1   8_medium  [0.027282983, -0.0051007248, 0.030560734, 0.00...  \n",
       "\n",
       "[5 rows x 61 columns]"
      ]
     },
     "execution_count": 159,
     "metadata": {},
     "output_type": "execute_result"
    }
   ],
   "source": [
    "def assign_partition(toxicity):\n",
    "    if toxicity < 0.1:\n",
    "        return \"9_low\"\n",
    "    elif toxicity > 0.9:\n",
    "        return \"9_high\"\n",
    "    else:\n",
    "        i = np.random.choice([1, 2, 3, 4, 5, 6, 7, 8])\n",
    "        return f\"{i}_medium\"\n",
    "\n",
    "df[\"partition\"] = df[\"toxicity\"].apply(assign_partition)\n",
    "df.head()"
   ]
  },
  {
   "attachments": {},
   "cell_type": "markdown",
   "metadata": {},
   "source": [
    "## Create Embeddings\n",
    "\n",
    "For the `comment_text` column, we create embeddings using the huggingface `sentence-transformers` library."
   ]
  },
  {
   "cell_type": "code",
   "execution_count": 6,
   "metadata": {},
   "outputs": [
    {
     "name": "stderr",
     "output_type": "stream",
     "text": [
      "Batches: 100%|██████████| 313/313 [01:15<00:00,  4.16it/s]\n"
     ]
    }
   ],
   "source": [
    "from sentence_transformers import SentenceTransformer\n",
    "\n",
    "model = SentenceTransformer('sentence-transformers/all-MiniLM-L6-v2')\n",
    "comments = df[\"comment_text\"].tolist()\n",
    "embeddings = model.encode(comments, show_progress_bar=True)"
   ]
  },
  {
   "cell_type": "code",
   "execution_count": 7,
   "metadata": {},
   "outputs": [],
   "source": [
    "df[\"comment_embedding\"] = [e for e in embeddings]"
   ]
  },
  {
   "attachments": {},
   "cell_type": "markdown",
   "metadata": {},
   "source": [
    "## Create Partition Summaries\n",
    "\n",
    "We use the `summarize` function to create partition summaries for each partition. We use the `comment_text` column as the embedding key, and the `comment_embedding` column as embedding value. We also pass in other columns that we want to compute statistics for."
   ]
  },
  {
   "cell_type": "code",
   "execution_count": 160,
   "metadata": {},
   "outputs": [],
   "source": [
    "columns = [\n",
    "    \"rating\",\n",
    "    \"toxicity\"\n",
    "]\n",
    "partition_key = \"partition\"\n",
    "embedding_key = \"comment_text\"\n",
    "embedding_value = \"comment_embedding\"\n"
   ]
  },
  {
   "cell_type": "code",
   "execution_count": 161,
   "metadata": {},
   "outputs": [
    {
     "name": "stdout",
     "output_type": "stream",
     "text": [
      "Computed summaries for 10 partitions.\n"
     ]
    }
   ],
   "source": [
    "summaries = summarize(df, columns, partition_key=partition_key, embedding_column_map={embedding_key: embedding_value})\n",
    "print(f\"Computed summaries for {len(summaries)} partitions.\")"
   ]
  },
  {
   "attachments": {},
   "cell_type": "markdown",
   "metadata": {},
   "source": [
    "We can print out the summary of the first partition:"
   ]
  },
  {
   "cell_type": "code",
   "execution_count": 143,
   "metadata": {},
   "outputs": [
    {
     "name": "stdout",
     "output_type": "stream",
     "text": [
      "Regular summary:\n",
      "  partition    column  coverage      mean  num_unique_values  occurrence_ratio  p50       p95\n",
      "0  1_medium    rating       1.0       NaN                2.0          0.883516  NaN       NaN\n",
      "1  1_medium  toxicity       1.0  0.345642                NaN               NaN  0.3  0.707692\n",
      "Embedding summary:\n",
      "    partition                 column  coverage          mean           p50           p95\n",
      "0    1_medium    comment_embedding_0       1.0  2.566922e-02  2.457224e-02  1.100073e-01\n",
      "1    1_medium    comment_embedding_1       1.0  1.813742e-02  1.855958e-02  1.013335e-01\n",
      "2    1_medium   comment_embedding_10       1.0  1.677387e-03  6.762206e-03  8.198688e-02\n",
      "3    1_medium  comment_embedding_100       1.0 -3.462402e-02 -3.289469e-02  3.170577e-02\n",
      "4    1_medium  comment_embedding_101       1.0  1.313250e-02  1.312971e-02  8.963184e-02\n",
      "5    1_medium  comment_embedding_102       1.0 -4.987243e-03 -4.862877e-03  7.379767e-02\n",
      "6    1_medium  comment_embedding_103       1.0 -1.457789e-02 -1.376120e-02  6.048161e-02\n",
      "7    1_medium  comment_embedding_104       1.0 -2.834484e-03 -6.320025e-03  8.596915e-02\n",
      "8    1_medium  comment_embedding_105       1.0 -2.827332e-02 -2.746955e-02  5.969156e-02\n",
      "9    1_medium  comment_embedding_106       1.0 -1.181670e-02 -1.437483e-02  6.583130e-02\n",
      "10   1_medium  comment_embedding_107       1.0  9.939669e-04  1.011214e-03  7.252383e-02\n",
      "11   1_medium  comment_embedding_108       1.0 -2.921389e-02 -2.874669e-02  4.945118e-02\n",
      "12   1_medium  comment_embedding_109       1.0 -1.169617e-02 -1.403254e-02  5.627712e-02\n",
      "13   1_medium   comment_embedding_11       1.0  2.029389e-02  2.025089e-02  1.122578e-01\n",
      "14   1_medium  comment_embedding_110       1.0 -9.216554e-04 -1.726727e-03  7.439786e-02\n",
      "15   1_medium  comment_embedding_111       1.0 -9.062109e-03 -1.136005e-02  6.244053e-02\n",
      "16   1_medium  comment_embedding_112       1.0 -3.645322e-03 -6.490595e-03  6.900887e-02\n",
      "17   1_medium  comment_embedding_113       1.0 -8.785651e-03 -6.341256e-03  8.237807e-02\n",
      "18   1_medium  comment_embedding_114       1.0  3.007410e-02  3.211844e-02  1.022199e-01\n",
      "19   1_medium  comment_embedding_115       1.0 -4.756915e-03 -5.341257e-03  8.125205e-02\n",
      "20   1_medium  comment_embedding_116       1.0  1.658838e-02  1.652683e-02  9.943257e-02\n",
      "21   1_medium  comment_embedding_117       1.0 -9.631502e-03 -8.733933e-03  6.682481e-02\n",
      "22   1_medium  comment_embedding_118       1.0 -2.712190e-02 -2.951534e-02  5.165528e-02\n",
      "23   1_medium  comment_embedding_119       1.0  1.118872e-03 -1.826664e-03  8.689255e-02\n",
      "24   1_medium   comment_embedding_12       1.0  1.178608e-02  1.352130e-02  8.489440e-02\n",
      "25   1_medium  comment_embedding_120       1.0  1.693773e-03  9.828623e-04  8.388329e-02\n",
      "26   1_medium  comment_embedding_121       1.0  7.798682e-03  1.063324e-02  8.043046e-02\n",
      "27   1_medium  comment_embedding_122       1.0 -4.051874e-02 -3.774070e-02  5.093046e-02\n",
      "28   1_medium  comment_embedding_123       1.0  4.145707e-02  3.903905e-02  1.208390e-01\n",
      "29   1_medium  comment_embedding_124       1.0  1.741831e-02  1.774068e-02  9.686417e-02\n",
      "30   1_medium  comment_embedding_125       1.0 -4.845672e-02 -4.849890e-02  3.575087e-02\n",
      "31   1_medium  comment_embedding_126       1.0 -3.277504e-02 -3.414750e-02  5.898082e-02\n",
      "32   1_medium  comment_embedding_127       1.0 -2.686082e-34 -3.146698e-34  4.776547e-33\n",
      "33   1_medium  comment_embedding_128       1.0  9.664968e-04 -1.432932e-03  7.955239e-02\n",
      "34   1_medium  comment_embedding_129       1.0  5.581359e-03  7.673641e-03  8.874066e-02\n",
      "35   1_medium   comment_embedding_13       1.0 -1.299162e-02 -1.324865e-02  6.561822e-02\n",
      "36   1_medium  comment_embedding_130       1.0  3.070578e-03  3.495051e-03  7.385508e-02\n",
      "37   1_medium  comment_embedding_131       1.0 -1.280249e-02 -1.279421e-02  6.101298e-02\n",
      "38   1_medium  comment_embedding_132       1.0 -4.262489e-03 -5.187268e-03  7.932136e-02\n",
      "39   1_medium  comment_embedding_133       1.0  6.886008e-03  6.521501e-03  9.601816e-02\n",
      "40   1_medium  comment_embedding_134       1.0 -2.041570e-02 -2.301440e-02  5.703888e-02\n",
      "41   1_medium  comment_embedding_135       1.0 -1.932258e-02 -1.876700e-02  5.795185e-02\n",
      "42   1_medium  comment_embedding_136       1.0  1.331388e-02  1.039844e-02  9.612643e-02\n",
      "43   1_medium  comment_embedding_137       1.0  3.525736e-03  3.373648e-03  8.602346e-02\n",
      "44   1_medium  comment_embedding_138       1.0  8.575980e-03  7.888167e-03  8.703737e-02\n",
      "45   1_medium  comment_embedding_139       1.0 -5.333404e-03 -7.721186e-03  8.839580e-02\n",
      "46   1_medium   comment_embedding_14       1.0 -1.675125e-02 -1.668516e-02  5.778680e-02\n",
      "47   1_medium  comment_embedding_140       1.0 -5.210779e-03 -4.099492e-03  7.596701e-02\n",
      "48   1_medium  comment_embedding_141       1.0  1.541233e-02  2.005276e-02  9.814447e-02\n",
      "49   1_medium  comment_embedding_142       1.0 -1.859692e-02 -1.987382e-02  6.899749e-02\n",
      "50   1_medium  comment_embedding_143       1.0  5.129211e-03  3.744422e-03  9.136285e-02\n",
      "51   1_medium  comment_embedding_144       1.0 -2.080609e-02 -2.074446e-02  6.811647e-02\n",
      "52   1_medium  comment_embedding_145       1.0  1.773696e-02  1.490184e-02  9.238307e-02\n",
      "53   1_medium  comment_embedding_146       1.0 -8.088521e-03 -9.315318e-03  7.422132e-02\n",
      "54   1_medium  comment_embedding_147       1.0 -1.468015e-02 -1.407271e-02  5.330608e-02\n",
      "55   1_medium  comment_embedding_148       1.0  2.793279e-02  2.801132e-02  1.088112e-01\n",
      "56   1_medium  comment_embedding_149       1.0  2.633420e-02  2.982530e-02  1.139842e-01\n",
      "57   1_medium   comment_embedding_15       1.0  2.575125e-02  2.854525e-02  1.027558e-01\n",
      "58   1_medium  comment_embedding_150       1.0  9.579396e-04  4.330317e-03  6.343180e-02\n",
      "59   1_medium  comment_embedding_151       1.0  1.695207e-02  1.514954e-02  9.860160e-02\n",
      "60   1_medium  comment_embedding_152       1.0 -1.603264e-02 -1.486394e-02  7.498948e-02\n",
      "61   1_medium  comment_embedding_153       1.0 -2.012922e-02 -2.413382e-02  5.748411e-02\n",
      "62   1_medium  comment_embedding_154       1.0  2.524732e-02  2.449466e-02  1.168981e-01\n",
      "63   1_medium  comment_embedding_155       1.0  1.014734e-02  8.308583e-03  8.477468e-02\n",
      "64   1_medium  comment_embedding_156       1.0 -1.017276e-04  1.127476e-03  7.580858e-02\n",
      "65   1_medium  comment_embedding_157       1.0  8.573934e-03  8.413997e-03  4.674398e-02\n",
      "66   1_medium  comment_embedding_158       1.0 -3.049099e-02 -2.867501e-02  4.933046e-02\n",
      "67   1_medium  comment_embedding_159       1.0  3.185025e-03  3.125422e-04  8.412338e-02\n",
      "68   1_medium   comment_embedding_16       1.0 -4.776594e-03 -6.003265e-03  7.562200e-02\n",
      "69   1_medium  comment_embedding_160       1.0  1.189113e-02  1.262231e-02  9.762488e-02\n",
      "70   1_medium  comment_embedding_161       1.0  6.979047e-03  8.037335e-03  8.111091e-02\n",
      "71   1_medium  comment_embedding_162       1.0  1.550077e-02  1.472332e-02  9.457639e-02\n",
      "72   1_medium  comment_embedding_163       1.0 -4.537404e-03 -8.305970e-03  7.734709e-02\n",
      "73   1_medium  comment_embedding_164       1.0  1.132191e-02  1.083394e-02  8.205591e-02\n",
      "74   1_medium  comment_embedding_165       1.0  1.310529e-03 -1.362574e-03  8.074024e-02\n",
      "75   1_medium  comment_embedding_166       1.0 -1.745790e-02 -1.850919e-02  5.614195e-02\n",
      "76   1_medium  comment_embedding_167       1.0 -3.489297e-03 -3.268807e-03  6.635489e-02\n",
      "77   1_medium  comment_embedding_168       1.0 -6.557109e-03 -7.719095e-03  7.355849e-02\n",
      "78   1_medium  comment_embedding_169       1.0  2.308178e-02  2.300901e-02  9.702760e-02\n",
      "79   1_medium   comment_embedding_17       1.0 -1.381816e-02 -1.340410e-02  6.848709e-02\n",
      "80   1_medium  comment_embedding_170       1.0  2.984892e-03  6.856138e-03  8.829666e-02\n",
      "81   1_medium  comment_embedding_171       1.0  1.316264e-02  1.344275e-02  8.830165e-02\n",
      "82   1_medium  comment_embedding_172       1.0  6.664184e-03  3.667536e-03  1.012883e-01\n",
      "83   1_medium  comment_embedding_173       1.0  1.923313e-02  1.813596e-02  9.210667e-02\n",
      "84   1_medium  comment_embedding_174       1.0  1.809436e-02  1.974665e-02  9.949177e-02\n",
      "85   1_medium  comment_embedding_175       1.0 -2.206947e-02 -2.124032e-02  5.616800e-02\n",
      "86   1_medium  comment_embedding_176       1.0 -7.637233e-03 -9.658339e-03  7.761317e-02\n",
      "87   1_medium  comment_embedding_177       1.0  1.671073e-02  1.855635e-02  9.243438e-02\n",
      "88   1_medium  comment_embedding_178       1.0  1.658147e-03  1.793654e-03  8.224066e-02\n",
      "89   1_medium  comment_embedding_179       1.0  2.091099e-02  1.975680e-02  9.339113e-02\n",
      "90   1_medium   comment_embedding_18       1.0 -1.400478e-02 -1.063254e-02  5.759813e-02\n",
      "91   1_medium  comment_embedding_180       1.0  1.156967e-02  1.574847e-02  9.047404e-02\n",
      "92   1_medium  comment_embedding_181       1.0  4.060515e-03  2.374560e-03  8.019958e-02\n",
      "93   1_medium  comment_embedding_182       1.0 -9.659236e-04  1.716974e-04  6.689305e-02\n",
      "94   1_medium  comment_embedding_183       1.0 -1.196259e-02 -1.341625e-02  6.840267e-02\n",
      "95   1_medium  comment_embedding_184       1.0 -2.491948e-02 -2.422324e-02  5.030100e-02\n",
      "96   1_medium  comment_embedding_185       1.0  1.898543e-02  1.645071e-02  1.064021e-01\n",
      "97   1_medium  comment_embedding_186       1.0  1.554153e-02  1.408398e-02  8.763330e-02\n",
      "98   1_medium  comment_embedding_187       1.0 -1.151756e-02 -1.446095e-02  6.494553e-02\n",
      "99   1_medium  comment_embedding_188       1.0 -8.165028e-03 -1.029167e-02  8.106913e-02\n",
      "100  1_medium  comment_embedding_189       1.0  4.127260e-03  5.056447e-03  8.418266e-02\n",
      "101  1_medium   comment_embedding_19       1.0  4.329501e-02  4.506548e-02  1.305817e-01\n",
      "102  1_medium  comment_embedding_190       1.0 -2.766869e-02 -2.649733e-02  4.867354e-02\n",
      "103  1_medium  comment_embedding_191       1.0  3.440734e-04  2.289612e-03  8.327157e-02\n",
      "104  1_medium  comment_embedding_192       1.0 -1.973969e-02 -1.715802e-02  5.624468e-02\n",
      "105  1_medium  comment_embedding_193       1.0 -7.047549e-03 -4.399792e-03  7.717575e-02\n",
      "106  1_medium  comment_embedding_194       1.0 -1.503717e-02 -1.385113e-02  7.847654e-02\n",
      "107  1_medium  comment_embedding_195       1.0  8.668247e-03  8.294630e-03  7.899704e-02\n",
      "108  1_medium  comment_embedding_196       1.0 -2.998628e-02 -2.825658e-02  4.353308e-02\n",
      "109  1_medium  comment_embedding_197       1.0  8.732870e-03  9.327378e-03  8.676551e-02\n",
      "110  1_medium  comment_embedding_198       1.0  2.370964e-02  2.088133e-02  9.396247e-02\n",
      "111  1_medium  comment_embedding_199       1.0  8.298595e-03  9.310054e-03  8.102358e-02\n",
      "112  1_medium    comment_embedding_2       1.0  3.205833e-03  8.657768e-04  8.372914e-02\n",
      "113  1_medium   comment_embedding_20       1.0 -2.926448e-02 -2.626039e-02  5.437932e-02\n",
      "114  1_medium  comment_embedding_200       1.0 -1.216996e-02 -1.297765e-02  5.990300e-02\n",
      "115  1_medium  comment_embedding_201       1.0  6.710055e-03  7.851024e-03  9.339678e-02\n",
      "116  1_medium  comment_embedding_202       1.0 -2.497612e-02 -2.516376e-02  5.491343e-02\n",
      "117  1_medium  comment_embedding_203       1.0 -3.374932e-03 -9.504728e-04  7.269764e-02\n",
      "118  1_medium  comment_embedding_204       1.0  9.696315e-03  1.055560e-02  8.963199e-02\n",
      "119  1_medium  comment_embedding_205       1.0 -9.408156e-03 -1.189209e-02  6.390716e-02\n",
      "120  1_medium  comment_embedding_206       1.0  3.506518e-02  3.663534e-02  1.132492e-01\n",
      "121  1_medium  comment_embedding_207       1.0 -3.016154e-02 -3.278213e-02  4.149012e-02\n",
      "122  1_medium  comment_embedding_208       1.0  2.359996e-02  1.943586e-02  1.039126e-01\n",
      "123  1_medium  comment_embedding_209       1.0  2.202576e-03  1.989565e-03  8.579115e-02\n",
      "124  1_medium   comment_embedding_21       1.0  1.350930e-02  1.454905e-02  8.696691e-02\n",
      "125  1_medium  comment_embedding_210       1.0  3.328619e-02  3.040185e-02  1.227396e-01\n",
      "126  1_medium  comment_embedding_211       1.0 -1.783068e-02 -1.644259e-02  5.864209e-02\n",
      "127  1_medium  comment_embedding_212       1.0  2.550558e-03  2.189006e-03  9.989089e-02\n",
      "128  1_medium  comment_embedding_213       1.0 -5.442746e-03 -5.369093e-03  7.896663e-02\n",
      "129  1_medium  comment_embedding_214       1.0  2.543831e-02  2.493380e-02  1.028480e-01\n",
      "130  1_medium  comment_embedding_215       1.0 -8.318833e-03 -9.597989e-03  7.003037e-02\n",
      "131  1_medium  comment_embedding_216       1.0  1.764452e-02  1.897880e-02  9.224734e-02\n",
      "132  1_medium  comment_embedding_217       1.0 -1.353444e-02 -1.437721e-02  7.550170e-02\n",
      "133  1_medium  comment_embedding_218       1.0 -1.440410e-02 -1.526011e-02  8.637742e-02\n",
      "134  1_medium  comment_embedding_219       1.0  1.486907e-02  1.466242e-02  9.250553e-02\n",
      "135  1_medium   comment_embedding_22       1.0  3.191976e-02  2.918136e-02  1.188253e-01\n",
      "136  1_medium  comment_embedding_220       1.0  1.917534e-02  1.745118e-02  9.126746e-02\n",
      "137  1_medium  comment_embedding_221       1.0 -9.024528e-03 -8.212268e-03  7.122885e-02\n",
      "138  1_medium  comment_embedding_222       1.0 -4.092361e-02 -4.088308e-02  4.908328e-02\n",
      "139  1_medium  comment_embedding_223       1.0 -1.655322e-33 -1.679232e-33  2.930804e-33\n",
      "140  1_medium  comment_embedding_224       1.0 -2.283635e-02 -2.119621e-02  5.785183e-02\n",
      "141  1_medium  comment_embedding_225       1.0 -2.267196e-02 -2.453937e-02  5.223443e-02\n",
      "142  1_medium  comment_embedding_226       1.0  5.469158e-04 -1.169641e-04  7.976471e-02\n",
      "143  1_medium  comment_embedding_227       1.0  2.341691e-02  2.371932e-02  9.201164e-02\n",
      "144  1_medium  comment_embedding_228       1.0 -9.805080e-03 -7.307927e-03  6.092311e-02\n",
      "145  1_medium  comment_embedding_229       1.0  2.285719e-03  4.499923e-03  7.484028e-02\n",
      "146  1_medium   comment_embedding_23       1.0  1.289181e-02  1.543489e-02  8.502337e-02\n",
      "147  1_medium  comment_embedding_230       1.0 -1.439308e-03 -1.522546e-03  7.768180e-02\n",
      "148  1_medium  comment_embedding_231       1.0 -1.211039e-02 -9.180805e-03  7.041470e-02\n",
      "149  1_medium  comment_embedding_232       1.0  1.012763e-02  1.066652e-02  7.958341e-02\n",
      "150  1_medium  comment_embedding_233       1.0  1.101191e-02  1.098015e-02  8.773131e-02\n",
      "151  1_medium  comment_embedding_234       1.0 -3.980107e-04  4.269027e-03  8.565955e-02\n",
      "152  1_medium  comment_embedding_235       1.0 -1.742530e-02 -1.733821e-02  6.071983e-02\n",
      "153  1_medium  comment_embedding_236       1.0  1.142111e-02  9.740336e-03  9.170394e-02\n",
      "154  1_medium  comment_embedding_237       1.0  3.764352e-02  3.684749e-02  1.261059e-01\n",
      "155  1_medium  comment_embedding_238       1.0  4.484350e-03  5.620591e-03  8.767217e-02\n",
      "156  1_medium  comment_embedding_239       1.0 -3.176524e-02 -3.425698e-02  3.930372e-02\n",
      "157  1_medium   comment_embedding_24       1.0 -1.197925e-02 -8.978301e-03  6.810661e-02\n",
      "158  1_medium  comment_embedding_240       1.0  2.722011e-02  2.910552e-02  1.142474e-01\n",
      "159  1_medium  comment_embedding_241       1.0 -6.709759e-03 -5.993082e-03  8.522062e-02\n",
      "160  1_medium  comment_embedding_242       1.0 -2.540643e-02 -2.620666e-02  4.846731e-02\n",
      "161  1_medium  comment_embedding_243       1.0 -1.103040e-02 -9.126469e-03  5.296761e-02\n",
      "162  1_medium  comment_embedding_244       1.0 -9.412719e-04 -1.064650e-03  8.734177e-02\n",
      "163  1_medium  comment_embedding_245       1.0  4.049307e-02  4.007487e-02  1.183804e-01\n",
      "164  1_medium  comment_embedding_246       1.0 -1.988264e-02 -1.910156e-02  5.255838e-02\n",
      "165  1_medium  comment_embedding_247       1.0  3.293266e-02  3.520457e-02  1.216031e-01\n",
      "166  1_medium  comment_embedding_248       1.0 -2.083211e-02 -1.915073e-02  5.591292e-02\n",
      "167  1_medium  comment_embedding_249       1.0  5.724081e-03  8.041594e-03  6.782093e-02\n",
      "168  1_medium   comment_embedding_25       1.0 -3.812717e-03 -3.722772e-03  7.840711e-02\n",
      "169  1_medium  comment_embedding_250       1.0  2.594808e-02  2.915008e-02  1.170347e-01\n",
      "170  1_medium  comment_embedding_251       1.0 -6.863004e-03 -6.309308e-03  7.172477e-02\n",
      "171  1_medium  comment_embedding_252       1.0 -8.988203e-03 -1.276244e-02  7.807686e-02\n",
      "172  1_medium  comment_embedding_253       1.0 -2.065222e-02 -2.240225e-02  5.642727e-02\n",
      "173  1_medium  comment_embedding_254       1.0 -1.709246e-02 -1.485207e-02  5.537225e-02\n",
      "174  1_medium  comment_embedding_255       1.0  1.906646e-02  2.196081e-02  9.678081e-02\n",
      "175  1_medium  comment_embedding_256       1.0 -1.736861e-02 -1.631285e-02  6.766532e-02\n",
      "176  1_medium  comment_embedding_257       1.0 -7.966558e-04 -6.331591e-04  7.001726e-02\n",
      "177  1_medium  comment_embedding_258       1.0  8.539667e-03  5.841403e-03  1.010205e-01\n",
      "178  1_medium  comment_embedding_259       1.0  6.092004e-04  4.859936e-04  8.547199e-02\n",
      "179  1_medium   comment_embedding_26       1.0  3.284932e-03  3.644801e-03  7.649342e-02\n",
      "180  1_medium  comment_embedding_260       1.0 -3.785000e-03 -4.229084e-03  8.486106e-02\n",
      "181  1_medium  comment_embedding_261       1.0  1.510861e-02  1.300940e-02  1.178133e-01\n",
      "182  1_medium  comment_embedding_262       1.0 -1.070289e-02 -1.372265e-02  6.819783e-02\n",
      "183  1_medium  comment_embedding_263       1.0 -1.836470e-02 -1.592955e-02  6.504107e-02\n",
      "184  1_medium  comment_embedding_264       1.0  4.952502e-03  2.698893e-03  9.073242e-02\n",
      "185  1_medium  comment_embedding_265       1.0 -2.174295e-02 -2.382827e-02  4.948352e-02\n",
      "186  1_medium  comment_embedding_266       1.0 -4.773745e-02 -4.755819e-02  2.918547e-02\n",
      "187  1_medium  comment_embedding_267       1.0 -1.355802e-02 -1.634761e-02  6.608953e-02\n",
      "188  1_medium  comment_embedding_268       1.0 -6.150734e-03 -5.104708e-03  6.690760e-02\n",
      "189  1_medium  comment_embedding_269       1.0  1.009171e-02  1.091016e-02  9.010533e-02\n",
      "190  1_medium   comment_embedding_27       1.0 -7.305263e-03 -8.420286e-03  6.405774e-02\n",
      "191  1_medium  comment_embedding_270       1.0  1.665307e-02  1.744670e-02  1.114892e-01\n",
      "192  1_medium  comment_embedding_271       1.0  1.921594e-02  1.909460e-02  1.068559e-01\n",
      "193  1_medium  comment_embedding_272       1.0  7.865301e-03  7.919176e-03  1.002349e-01\n",
      "194  1_medium  comment_embedding_273       1.0 -1.498206e-02 -1.212652e-02  6.513821e-02\n",
      "195  1_medium  comment_embedding_274       1.0 -4.444293e-02 -4.613777e-02  4.440218e-02\n",
      "196  1_medium  comment_embedding_275       1.0  3.448821e-03  4.296268e-03  8.440159e-02\n",
      "197  1_medium  comment_embedding_276       1.0 -1.117743e-02 -8.718263e-03  6.832358e-02\n",
      "198  1_medium  comment_embedding_277       1.0  1.799121e-02  1.753109e-02  1.000844e-01\n",
      "199  1_medium  comment_embedding_278       1.0 -6.119380e-03 -6.881782e-03  7.354771e-02\n",
      "200  1_medium  comment_embedding_279       1.0 -2.334752e-02 -2.646801e-02  5.253476e-02\n",
      "201  1_medium   comment_embedding_28       1.0 -1.526991e-02 -1.569027e-02  5.334742e-02\n",
      "202  1_medium  comment_embedding_280       1.0  4.758057e-04  1.192199e-03  9.313988e-02\n",
      "203  1_medium  comment_embedding_281       1.0 -2.284601e-02 -2.277549e-02  4.464164e-02\n",
      "204  1_medium  comment_embedding_282       1.0  4.107868e-03  2.942696e-03  8.865908e-02\n",
      "205  1_medium  comment_embedding_283       1.0 -5.287888e-03 -2.791089e-03  7.345886e-02\n",
      "206  1_medium  comment_embedding_284       1.0 -1.268409e-02 -1.158041e-02  7.564470e-02\n",
      "207  1_medium  comment_embedding_285       1.0 -2.022813e-03 -4.516461e-04  7.155491e-02\n",
      "208  1_medium  comment_embedding_286       1.0 -1.456173e-02 -1.625783e-02  7.127068e-02\n",
      "209  1_medium  comment_embedding_287       1.0 -7.358171e-03 -7.426723e-03  7.021064e-02\n",
      "210  1_medium  comment_embedding_288       1.0  2.252172e-02  2.241496e-02  9.535412e-02\n",
      "211  1_medium  comment_embedding_289       1.0 -7.685589e-03 -1.057999e-02  7.510731e-02\n",
      "212  1_medium   comment_embedding_29       1.0  2.387772e-02  2.245815e-02  1.014102e-01\n",
      "213  1_medium  comment_embedding_290       1.0 -2.197417e-02 -2.185173e-02  5.023806e-02\n",
      "214  1_medium  comment_embedding_291       1.0  5.314279e-04 -1.976184e-03  9.544293e-02\n",
      "215  1_medium  comment_embedding_292       1.0  2.782613e-02  2.889049e-02  1.109150e-01\n",
      "216  1_medium  comment_embedding_293       1.0  1.133327e-03  1.542263e-03  7.033511e-02\n",
      "217  1_medium  comment_embedding_294       1.0  1.681992e-02  1.761435e-02  9.324464e-02\n",
      "218  1_medium  comment_embedding_295       1.0 -3.259644e-02 -3.516246e-02  5.873995e-02\n",
      "219  1_medium  comment_embedding_296       1.0 -4.092017e-02 -4.156550e-02  3.299860e-02\n",
      "220  1_medium  comment_embedding_297       1.0 -9.773724e-03 -7.554195e-03  6.503572e-02\n",
      "221  1_medium  comment_embedding_298       1.0 -1.876763e-03 -5.053574e-03  8.085832e-02\n",
      "222  1_medium  comment_embedding_299       1.0  2.757642e-02  2.725694e-02  1.113326e-01\n",
      "223  1_medium    comment_embedding_3       1.0  4.558725e-03  5.035218e-03  7.294570e-02\n",
      "224  1_medium   comment_embedding_30       1.0  7.861974e-03  9.511851e-03  8.922010e-02\n",
      "225  1_medium  comment_embedding_300       1.0 -8.328645e-03 -1.092479e-02  7.505704e-02\n",
      "226  1_medium  comment_embedding_301       1.0  3.457336e-03  2.396949e-03  8.409378e-02\n",
      "227  1_medium  comment_embedding_302       1.0 -9.167036e-03 -9.439552e-03  5.764200e-02\n",
      "228  1_medium  comment_embedding_303       1.0  8.709750e-03  8.520485e-03  8.458389e-02\n",
      "229  1_medium  comment_embedding_304       1.0  3.877224e-02  3.766444e-02  1.205775e-01\n",
      "230  1_medium  comment_embedding_305       1.0 -6.309637e-02 -6.467260e-02  1.093675e-02\n",
      "231  1_medium  comment_embedding_306       1.0  4.608618e-03  3.768743e-03  9.076674e-02\n",
      "232  1_medium  comment_embedding_307       1.0 -1.940641e-04  6.044920e-04  7.607420e-02\n",
      "233  1_medium  comment_embedding_308       1.0  1.652564e-02  1.693626e-02  9.211641e-02\n",
      "234  1_medium  comment_embedding_309       1.0  5.871981e-03  7.786819e-03  1.034891e-01\n",
      "235  1_medium   comment_embedding_31       1.0  3.862923e-03  4.207391e-03  8.055160e-02\n",
      "236  1_medium  comment_embedding_310       1.0  8.375167e-03  9.324052e-03  7.971206e-02\n",
      "237  1_medium  comment_embedding_311       1.0 -2.238677e-02 -2.532413e-02  6.337042e-02\n",
      "238  1_medium  comment_embedding_312       1.0 -9.418628e-04  8.409143e-04  7.317792e-02\n",
      "239  1_medium  comment_embedding_313       1.0  2.014149e-02  1.888668e-02  9.241189e-02\n",
      "240  1_medium  comment_embedding_314       1.0 -1.807325e-02 -1.856701e-02  6.607003e-02\n",
      "241  1_medium  comment_embedding_315       1.0 -3.147924e-02 -3.321264e-02  4.669648e-02\n",
      "242  1_medium  comment_embedding_316       1.0 -5.645973e-03 -5.236637e-03  7.373331e-02\n",
      "243  1_medium  comment_embedding_317       1.0  8.626146e-03  7.875117e-03  8.690815e-02\n",
      "244  1_medium  comment_embedding_318       1.0  4.181354e-03  1.070620e-03  8.529655e-02\n",
      "245  1_medium  comment_embedding_319       1.0 -3.814566e-08 -3.781489e-08 -1.956605e-08\n",
      "246  1_medium   comment_embedding_32       1.0 -1.648306e-02 -1.582386e-02  5.359473e-02\n",
      "247  1_medium  comment_embedding_320       1.0  4.819535e-03  5.229430e-03  7.594208e-02\n",
      "248  1_medium  comment_embedding_321       1.0 -1.432866e-03  5.084467e-05  7.671580e-02\n",
      "249  1_medium  comment_embedding_322       1.0 -7.186718e-03 -7.711299e-03  6.789657e-02\n",
      "250  1_medium  comment_embedding_323       1.0  1.246541e-02  1.345511e-02  8.693638e-02\n",
      "251  1_medium  comment_embedding_324       1.0  5.472332e-03  5.164476e-03  8.937255e-02\n",
      "252  1_medium  comment_embedding_325       1.0  1.033557e-02  1.575271e-02  1.046305e-01\n",
      "253  1_medium  comment_embedding_326       1.0 -1.173730e-02 -1.162609e-02  6.327868e-02\n",
      "254  1_medium  comment_embedding_327       1.0 -2.618840e-02 -3.047678e-02  6.236238e-02\n",
      "255  1_medium  comment_embedding_328       1.0  6.641724e-03  7.203910e-03  7.699513e-02\n",
      "256  1_medium  comment_embedding_329       1.0  2.685292e-02  2.763033e-02  1.101753e-01\n",
      "257  1_medium   comment_embedding_33       1.0  2.774934e-02  2.931333e-02  1.041905e-01\n",
      "258  1_medium  comment_embedding_330       1.0 -4.142228e-03 -5.899967e-03  8.951340e-02\n",
      "259  1_medium  comment_embedding_331       1.0  7.321582e-04  2.405634e-04  6.344831e-02\n",
      "260  1_medium  comment_embedding_332       1.0 -7.454933e-03 -7.713865e-03  7.340156e-02\n",
      "261  1_medium  comment_embedding_333       1.0  3.855687e-03  1.604985e-03  8.071842e-02\n",
      "262  1_medium  comment_embedding_334       1.0 -9.642398e-03 -1.114173e-02  7.473571e-02\n",
      "263  1_medium  comment_embedding_335       1.0  2.082939e-02  2.228795e-02  8.300149e-02\n",
      "264  1_medium  comment_embedding_336       1.0  6.058564e-03  5.732173e-03  8.807379e-02\n",
      "265  1_medium  comment_embedding_337       1.0 -3.174176e-02 -3.571884e-02  6.160249e-02\n",
      "266  1_medium  comment_embedding_338       1.0 -1.468385e-02 -1.564684e-02  4.168135e-02\n",
      "267  1_medium  comment_embedding_339       1.0  8.248908e-03  1.022493e-02  7.670644e-02\n",
      "268  1_medium   comment_embedding_34       1.0 -1.934585e-03 -9.711919e-04  8.753303e-02\n",
      "269  1_medium  comment_embedding_340       1.0 -8.996607e-03 -9.016179e-03  7.520135e-02\n",
      "270  1_medium  comment_embedding_341       1.0  1.258471e-02  1.349225e-02  8.270750e-02\n",
      "271  1_medium  comment_embedding_342       1.0 -2.669268e-03 -2.877486e-03  7.932846e-02\n",
      "272  1_medium  comment_embedding_343       1.0  7.920565e-03  7.313195e-03  8.640619e-02\n",
      "273  1_medium  comment_embedding_344       1.0  1.897325e-03  2.119912e-03  6.626748e-02\n",
      "274  1_medium  comment_embedding_345       1.0  8.920921e-03  7.249666e-03  7.247261e-02\n",
      "275  1_medium  comment_embedding_346       1.0 -2.241885e-02 -2.379279e-02  5.754209e-02\n",
      "276  1_medium  comment_embedding_347       1.0  8.729865e-03  9.635965e-03  8.410318e-02\n",
      "277  1_medium  comment_embedding_348       1.0  3.890811e-03  4.365315e-03  7.753258e-02\n",
      "278  1_medium  comment_embedding_349       1.0  3.135505e-02  3.068580e-02  1.067811e-01\n",
      "279  1_medium   comment_embedding_35       1.0 -2.991379e-03 -6.636477e-03  8.165106e-02\n",
      "280  1_medium  comment_embedding_350       1.0 -2.803493e-03 -2.185111e-03  7.876780e-02\n",
      "281  1_medium  comment_embedding_351       1.0 -4.197482e-04  1.378354e-03  6.944728e-02\n",
      "282  1_medium  comment_embedding_352       1.0 -4.679057e-02 -4.678622e-02  3.279106e-02\n",
      "283  1_medium  comment_embedding_353       1.0  1.064339e-02  9.563234e-03  8.235823e-02\n",
      "284  1_medium  comment_embedding_354       1.0  2.094273e-03  4.105863e-03  8.542779e-02\n",
      "285  1_medium  comment_embedding_355       1.0  1.175192e-03 -3.306804e-04  7.593612e-02\n",
      "286  1_medium  comment_embedding_356       1.0 -1.211319e-02 -1.376053e-02  6.948832e-02\n",
      "287  1_medium  comment_embedding_357       1.0  2.842577e-02  2.994605e-02  1.112185e-01\n",
      "288  1_medium  comment_embedding_358       1.0  2.366859e-02  2.604088e-02  9.560644e-02\n",
      "289  1_medium  comment_embedding_359       1.0 -8.303428e-03 -4.952736e-03  6.732982e-02\n",
      "290  1_medium   comment_embedding_36       1.0  3.312908e-02  3.327586e-02  1.099098e-01\n",
      "291  1_medium  comment_embedding_360       1.0 -1.890014e-02 -1.799961e-02  5.186490e-02\n",
      "292  1_medium  comment_embedding_361       1.0  1.483586e-03 -9.598927e-05  8.080504e-02\n",
      "293  1_medium  comment_embedding_362       1.0  1.605578e-02  1.592646e-02  7.702938e-02\n",
      "294  1_medium  comment_embedding_363       1.0  1.238560e-02  1.160377e-02  7.493638e-02\n",
      "295  1_medium  comment_embedding_364       1.0 -2.905961e-03 -4.894176e-03  7.464576e-02\n",
      "296  1_medium  comment_embedding_365       1.0 -1.860294e-02 -1.799405e-02  5.304903e-02\n",
      "297  1_medium  comment_embedding_366       1.0 -2.833668e-02 -2.887658e-02  5.760068e-02\n",
      "298  1_medium  comment_embedding_367       1.0  2.709690e-02  2.719335e-02  1.116412e-01\n",
      "299  1_medium  comment_embedding_368       1.0  1.132829e-02  1.143066e-02  9.163266e-02\n",
      "300  1_medium  comment_embedding_369       1.0  8.831459e-03  8.988231e-03  9.245182e-02\n",
      "301  1_medium   comment_embedding_37       1.0  1.881951e-02  2.044153e-02  9.606911e-02\n",
      "302  1_medium  comment_embedding_370       1.0  1.089326e-02  1.257986e-02  8.208212e-02\n",
      "303  1_medium  comment_embedding_371       1.0  7.569548e-03  6.956537e-03  9.694815e-02\n",
      "304  1_medium  comment_embedding_372       1.0  1.031138e-02  4.682393e-03  9.871588e-02\n",
      "305  1_medium  comment_embedding_373       1.0  1.032498e-02  1.147034e-02  9.301265e-02\n",
      "306  1_medium  comment_embedding_374       1.0  3.732626e-02  3.556080e-02  1.063596e-01\n",
      "307  1_medium  comment_embedding_375       1.0 -1.757048e-02 -1.686210e-02  6.706831e-02\n",
      "308  1_medium  comment_embedding_376       1.0  7.148022e-03  8.452881e-03  7.756519e-02\n",
      "309  1_medium  comment_embedding_377       1.0  9.234792e-04  6.829657e-04  7.701188e-02\n",
      "310  1_medium  comment_embedding_378       1.0 -2.768006e-02 -2.619527e-02  4.832007e-02\n",
      "311  1_medium  comment_embedding_379       1.0  7.999079e-03  9.316301e-03  8.484012e-02\n",
      "312  1_medium   comment_embedding_38       1.0  2.354534e-02  2.309163e-02  9.746334e-02\n",
      "313  1_medium  comment_embedding_380       1.0  2.416221e-02  2.446197e-02  1.094739e-01\n",
      "314  1_medium  comment_embedding_381       1.0 -2.470379e-02 -2.610552e-02  5.146085e-02\n",
      "315  1_medium  comment_embedding_382       1.0  1.921336e-02  2.243057e-02  1.011398e-01\n",
      "316  1_medium  comment_embedding_383       1.0 -5.164419e-03 -6.132285e-03  6.351024e-02\n",
      "317  1_medium   comment_embedding_39       1.0 -1.336951e-02 -1.181462e-02  6.279279e-02\n",
      "318  1_medium    comment_embedding_4       1.0  1.524124e-02  1.625252e-02  9.584382e-02\n",
      "319  1_medium   comment_embedding_40       1.0  2.616852e-02  2.630035e-02  9.394105e-02\n",
      "320  1_medium   comment_embedding_41       1.0 -2.459183e-02 -2.208392e-02  5.955713e-02\n",
      "321  1_medium   comment_embedding_42       1.0 -1.527602e-02 -1.571993e-02  6.693036e-02\n",
      "322  1_medium   comment_embedding_43       1.0  7.801981e-03  8.723279e-03  8.046421e-02\n",
      "323  1_medium   comment_embedding_44       1.0 -1.002214e-02 -1.049013e-02  6.574081e-02\n",
      "324  1_medium   comment_embedding_45       1.0  2.569529e-03  3.870533e-03  7.634596e-02\n",
      "325  1_medium   comment_embedding_46       1.0 -1.218225e-02 -1.388520e-02  6.607319e-02\n",
      "326  1_medium   comment_embedding_47       1.0  8.485503e-03  9.044615e-03  8.982030e-02\n",
      "327  1_medium   comment_embedding_48       1.0 -1.303036e-02 -1.474964e-02  7.522733e-02\n",
      "328  1_medium   comment_embedding_49       1.0 -4.658430e-02 -4.442738e-02  3.498649e-02\n",
      "329  1_medium    comment_embedding_5       1.0  9.710186e-03  9.371297e-03  8.458956e-02\n",
      "330  1_medium   comment_embedding_50       1.0 -5.274734e-03 -2.433444e-03  8.228752e-02\n",
      "331  1_medium   comment_embedding_51       1.0  1.833473e-03  8.120992e-04  7.908465e-02\n",
      "332  1_medium   comment_embedding_52       1.0  1.198854e-02  1.244545e-02  8.380894e-02\n",
      "333  1_medium   comment_embedding_53       1.0 -1.919643e-02 -1.873168e-02  6.136365e-02\n",
      "334  1_medium   comment_embedding_54       1.0 -1.155585e-02 -9.977845e-03  6.544070e-02\n",
      "335  1_medium   comment_embedding_55       1.0 -1.673352e-02 -1.437479e-02  6.851889e-02\n",
      "336  1_medium   comment_embedding_56       1.0 -7.583757e-03 -1.004204e-02  7.163775e-02\n",
      "337  1_medium   comment_embedding_57       1.0  6.239807e-03  4.225233e-03  8.928683e-02\n",
      "338  1_medium   comment_embedding_58       1.0  1.152724e-02  6.903724e-03  9.000907e-02\n",
      "339  1_medium   comment_embedding_59       1.0  1.471843e-02  1.746852e-02  8.496117e-02\n",
      "340  1_medium    comment_embedding_6       1.0  8.996146e-03  7.836636e-03  9.370062e-02\n",
      "341  1_medium   comment_embedding_60       1.0  8.980313e-03  6.652724e-03  8.822352e-02\n",
      "342  1_medium   comment_embedding_61       1.0  8.239900e-03  1.094779e-02  8.049207e-02\n",
      "343  1_medium   comment_embedding_62       1.0  1.546014e-03  1.407936e-03  6.703521e-02\n",
      "344  1_medium   comment_embedding_63       1.0  6.632929e-03  6.133405e-03  6.324759e-02\n",
      "345  1_medium   comment_embedding_64       1.0  7.777065e-03  6.540216e-03  9.252707e-02\n",
      "346  1_medium   comment_embedding_65       1.0  9.463317e-03  8.857916e-03  8.558273e-02\n",
      "347  1_medium   comment_embedding_66       1.0 -8.542296e-03 -1.043920e-02  7.349953e-02\n",
      "348  1_medium   comment_embedding_67       1.0 -1.050069e-03  1.845506e-03  6.563611e-02\n",
      "349  1_medium   comment_embedding_68       1.0 -2.631374e-02 -2.678634e-02  7.022999e-02\n",
      "350  1_medium   comment_embedding_69       1.0  2.007654e-02  2.311433e-02  9.789364e-02\n",
      "351  1_medium    comment_embedding_7       1.0 -2.941654e-02 -2.925968e-02  5.447614e-02\n",
      "352  1_medium   comment_embedding_70       1.0  2.262194e-02  2.250760e-02  1.065703e-01\n",
      "353  1_medium   comment_embedding_71       1.0  1.879443e-02  1.859101e-02  9.743314e-02\n",
      "354  1_medium   comment_embedding_72       1.0  2.499476e-02  2.512603e-02  1.016515e-01\n",
      "355  1_medium   comment_embedding_73       1.0  1.161851e-02  9.601211e-03  1.022628e-01\n",
      "356  1_medium   comment_embedding_74       1.0 -1.627648e-02 -1.642588e-02  7.400050e-02\n",
      "357  1_medium   comment_embedding_75       1.0 -1.602147e-02 -1.483989e-02  6.891499e-02\n",
      "358  1_medium   comment_embedding_76       1.0  1.637515e-02  1.391046e-02  1.105288e-01\n",
      "359  1_medium   comment_embedding_77       1.0  1.755404e-02  2.261339e-02  1.023676e-01\n",
      "360  1_medium   comment_embedding_78       1.0  1.980776e-02  2.260209e-02  9.411178e-02\n",
      "361  1_medium   comment_embedding_79       1.0 -1.144017e-02 -1.360890e-02  6.925032e-02\n",
      "362  1_medium    comment_embedding_8       1.0 -7.005210e-03 -9.760828e-03  7.898808e-02\n",
      "363  1_medium   comment_embedding_80       1.0  1.736439e-02  1.920737e-02  9.907609e-02\n",
      "364  1_medium   comment_embedding_81       1.0 -1.632511e-02 -1.841883e-02  7.183520e-02\n",
      "365  1_medium   comment_embedding_82       1.0  8.500386e-03  6.992874e-03  9.217950e-02\n",
      "366  1_medium   comment_embedding_83       1.0 -2.566685e-03 -5.574290e-03  7.167263e-02\n",
      "367  1_medium   comment_embedding_84       1.0  1.930466e-02  1.915449e-02  9.913527e-02\n",
      "368  1_medium   comment_embedding_85       1.0 -2.614877e-02 -2.699763e-02  4.175603e-02\n",
      "369  1_medium   comment_embedding_86       1.0 -1.426867e-02 -1.432856e-02  6.277869e-02\n",
      "370  1_medium   comment_embedding_87       1.0 -3.272271e-02 -3.419744e-02  4.339381e-02\n",
      "371  1_medium   comment_embedding_88       1.0  1.067631e-02  9.651964e-03  9.383949e-02\n",
      "372  1_medium   comment_embedding_89       1.0  1.384476e-02  1.365673e-02  9.088493e-02\n",
      "373  1_medium    comment_embedding_9       1.0 -1.952701e-03 -8.563175e-04  7.234341e-02\n",
      "374  1_medium   comment_embedding_90       1.0 -2.869835e-02 -2.866348e-02  4.841159e-02\n",
      "375  1_medium   comment_embedding_91       1.0 -8.719090e-04 -3.746661e-03  8.381459e-02\n",
      "376  1_medium   comment_embedding_92       1.0  4.224183e-02  4.202818e-02  1.296751e-01\n",
      "377  1_medium   comment_embedding_93       1.0 -1.666180e-02 -1.732313e-02  6.411702e-02\n",
      "378  1_medium   comment_embedding_94       1.0  6.386546e-03  2.829485e-03  8.773051e-02\n",
      "379  1_medium   comment_embedding_95       1.0 -1.531727e-02 -1.612599e-02  6.436127e-02\n",
      "380  1_medium   comment_embedding_96       1.0 -1.587456e-02 -1.899764e-02  7.210923e-02\n",
      "381  1_medium   comment_embedding_97       1.0  1.987406e-02  2.237333e-02  9.053571e-02\n",
      "382  1_medium   comment_embedding_98       1.0 -4.123912e-02 -3.728506e-02  3.949719e-02\n",
      "383  1_medium   comment_embedding_99       1.0  2.886270e-02  3.091665e-02  9.039155e-02\n"
     ]
    }
   ],
   "source": [
    "print(summaries[0])"
   ]
  },
  {
   "attachments": {},
   "cell_type": "markdown",
   "metadata": {},
   "source": [
    "## Compute Drift\n",
    "\n",
    "For each partition after the first 5 partitions, we compute the drift between the partition and historical partitions."
   ]
  },
  {
   "cell_type": "code",
   "execution_count": 162,
   "metadata": {},
   "outputs": [],
   "source": [
    "partition_names = [s.partition for s in summaries]"
   ]
  },
  {
   "cell_type": "code",
   "execution_count": 194,
   "metadata": {},
   "outputs": [
    {
     "name": "stdout",
     "output_type": "stream",
     "text": [
      "Checking partition 9_high...\n",
      "Drift detected in partition 9_high!\n",
      "Checking partition 9_low...\n",
      "Drift detected in partition 9_low!\n"
     ]
    }
   ],
   "source": [
    "drifted_partitions = {}\n",
    "\n",
    "for i in range(len(summaries)-2, len(summaries)):\n",
    "    print(f\"Checking partition {partition_names[i]}...\")\n",
    "    drift_results = detect_drift(summaries[i], summaries[:i])    \n",
    "    if drift_results.score_percentile > 0.85: # We use this instead of is_drifted since is_drifted's threshold is 95th percentile, and we want to be less strict since we only have 10 partitions\n",
    "        print(f\"Drift detected in partition {partition_names[i]}!\")\n",
    "        drifted_partitions[partition_names[i]] = drift_results"
   ]
  },
  {
   "attachments": {},
   "cell_type": "markdown",
   "metadata": {},
   "source": [
    "## Inspect Drift Results\n",
    "\n",
    "For the high and low toxicity partitions, we can print out the top drifted columns and drift score."
   ]
  },
  {
   "cell_type": "code",
   "execution_count": 195,
   "metadata": {},
   "outputs": [
    {
     "name": "stdout",
     "output_type": "stream",
     "text": [
      "9_high\n",
      "Drift score: 76.0686 (100.00% percentile)\n",
      "Top drifted columns:\n",
      "                          statistic   z-score\n",
      "column                                       \n",
      "toxicity                        p50  2.666667\n",
      "rating             occurrence_ratio -2.586768\n",
      "comment_embedding              mean  1.793594\n"
     ]
    }
   ],
   "source": [
    "def get_summary(partition_name):\n",
    "    for summary in summaries:\n",
    "        if summary.partition == partition_name:\n",
    "            return summary\n",
    "    return None\n",
    "\n",
    "\n",
    "partition_name = list(drifted_partitions.keys())[0]\n",
    "print(partition_name)\n",
    "drift_results_high = drifted_partitions[partition_name]\n",
    "print(drift_results_high)"
   ]
  },
  {
   "cell_type": "code",
   "execution_count": 196,
   "metadata": {},
   "outputs": [
    {
     "name": "stdout",
     "output_type": "stream",
     "text": [
      "9_low\n",
      "Drift score: 50.6208 (88.89% percentile)\n",
      "Top drifted columns:\n",
      "                          statistic   z-score\n",
      "column                                       \n",
      "toxicity                        p95 -2.695175\n",
      "comment_embedding              mean  1.243735\n",
      "rating             occurrence_ratio  1.094245\n"
     ]
    }
   ],
   "source": [
    "partition_name = list(drifted_partitions.keys())[1]\n",
    "print(partition_name)\n",
    "drift_results_low = drifted_partitions[partition_name]\n",
    "print(drift_results_low)"
   ]
  },
  {
   "attachments": {},
   "cell_type": "markdown",
   "metadata": {},
   "source": [
    "### Look at Drifted Embeddings for High Toxicity Partition\n",
    "\n",
    "In the drifted partition, we can identify the cluster of embeddings that diverged most from its values in historical partitions.\n",
    "\n",
    "`drifted_examples` represents the examples in the drifted partition. `corresponding_examples` represents the examples in the historical partitions."
   ]
  },
  {
   "cell_type": "code",
   "execution_count": 197,
   "metadata": {},
   "outputs": [],
   "source": [
    "result = drift_results_high.drifted_examples(\"comment_text\")\n",
    "drifted_examples = result[\"drifted_examples\"]\n",
    "corresponding_examples = result[\"corresponding_examples\"]"
   ]
  },
  {
   "cell_type": "code",
   "execution_count": 198,
   "metadata": {},
   "outputs": [
    {
     "data": {
      "text/plain": [
       "['Lord, what a tedious, tiresome, transparently deceptive and misleading troll you are.  Are you so delusional that you cannot see by the reactions of other posters that nobody is buying your repetitive and specious spins?  Obviously, Cassie (or whomever you are) your only recourse here is to go on the offensive and attack the reporters and the opposition with blatant lies and misleading out of context drive by smears.  You are certainly succeeding in being offensive, very offensive, but this is one pig that not even you can put lipstick on.   Give it rest.  Maybe run away for a week or so like Trudeau did.',\n",
       " \"If you're saying that Trudeau is anti-Semitic, you're bonkers.\",\n",
       " \"John Gibbons is a terrible manager, will add to my already quite-lengthy list of head-scratchingly dumb decisions.  Friday's game, top of the 9th, 5-1 Min, runners on the corners, 1 out.  Gibbons draws the infield in, to cut off the run at the plate, rather than playing DP depth, which is a no-brainer in that situation.\\n\\nSo, what happens?  Batter hits a low liner over the ss for an rbi single which he most certainly catches if he's where he shoulda been.  So, OK, big deal, his defenders say, you lose by 4, you lose by 5, no diff.  Agreed--so why draw the infield in then?\\n\\nHis defenders can't have it both ways.  That 6th run obviously mattered very much to Gibbons.  And the question, which was never asked, never discussed, never brought up, that needs to be put to Gibbons, is why?\\n\\nMaybe it makes no diff in that situation, but if you cannot even get that right, why would anyone trust his impulse when it really does matter?\",\n",
       " 'Then show me the vagina.',\n",
       " \"It's  a Canadian characteristic that is learned from birth and an unconscious reflex. They're not even aware they're doing it: They are the biggest condescending sanctimonious hypocrites in the world.\",\n",
       " 'oh save it loser, no one is forced to fly on an airplane but we all have to use electricity, man you lib trolls will make any excuse to justify the most incompetent file mess the ontario liberals have done to ontario!',\n",
       " '\"Anti-abortion types typically care only about the fetus.  * * * After the baby is born, y\\'all couldn\\'t give a damn about helping the baby or the mother.\"\\n\\n************\\nStatements so ridiculous that they cause people of good faith to question yours.  I\\'ll chalk these libels up to sheer ignorance rather than intentional falsehood.']"
      ]
     },
     "execution_count": 198,
     "metadata": {},
     "output_type": "execute_result"
    }
   ],
   "source": [
    "drifted_examples[embedding_key].to_list()"
   ]
  },
  {
   "cell_type": "code",
   "execution_count": 200,
   "metadata": {},
   "outputs": [
    {
     "data": {
      "text/plain": [
       "['How about this: If the priest is a woman \"it would be difficult to see in the minister the image of Christ. For Christ himself was and remains a man.\"  This says (1) the incarnation of Christ as a male is more significant than his incarnation as a human being; (2) that women are inferior to men, since they are not worthy of \"imaging Christ\"; (3) the faithful are too stupid to see Christ in a woman.\\n\\nNo, the reasons that women cannot be ordained is the hoary old \"women are inferior to me\". You traditionalists show your dishonesty in pretending it isn\\'t, which is a major reason for rejecting your ideology.\\n\\n\"All your objections to OS and subsequent documents are reduced to, \\'women can\\'t be ordained because the pope said so\\', and you expect people to take that as Gospel just on your say-so. There is now no reason to investigate further because John Hobson has pronounced upon the matter.\"\\n\\nI spoke about ONE document, OS. I said NOTHING about subsequent documents. You didn\\'t investigate.',\n",
       " 'Ask any of the fools and there would not be a single answer that makes any logical sense!\\nThe king can only ever be right?',\n",
       " \"Wow, this is fast action from Our Holy Father's commission.  Only 2 years after being formed, they already have a website, in beta form, ready to go.  Pope Francis and all the Cardinals and Bishops of the Church should be proud of this, it so clearly demonstrates the true scope of their concern for children.\",\n",
       " 'So burning a black church will get people to vote for Trump?',\n",
       " 'You reason with your conclusion in mind. Do some research. http://www.beliefnet.com/columnists/deaconsbench/2010/05/screening-seminarians-when-was-the-last-time-you-had-sex.html states that the Church has been screening for gays and the immature, even while science shows no correlation between orientation and abuse.  https://www.sharecare.com/health/sexual-abuse/what-causes-sexual-abuse-child Of course, beware of google searches, many of the results yield anti-gay propoganda from non-experts',\n",
       " '\"Who would believe the Church if she did an about face?\"\\n\\nI can promise you that when/if the Church (whoever that is??) ever does an about face and takes a more compassionate, inclusive, field-hospital approach (as PF has admonished), the Church has potential to earn back enormous amounts of respect and credibility the world over.  \\n\\nI can\\'t promise  this will lead to increased numbers but would be far better to mimic gospel imperatives than to insist on adhering to failed/failing \"imperial\" traditions.',\n",
       " \"Why is it ok for the aclu to force their faith on us.  They believe a baby isn't a baby until first breath, that promiscuity and homosexuality are moral, and that transgendering is just fine.  Why do we allow their belief system of secular humanism or basically Satanism to be publicly funded and taught in our public schools?\",\n",
       " 'People unaffected by laws pass them all the time, or are you arguing that only pederasts should pass laws regarding child s-xual abuse? In fact, being unaffected should make them more objective.\\n\\nChrist Himself said something about divorce, which seemed clear enough that the Apostles found it difficult, and so it might be reasonable to conclude they did not feel a need to gild the lily.',\n",
       " 'God gave us ten commandments and it is disgrace for the Vatican prelate to came up with thousands of Canon laws.  And some of the Canon laws are down right immoral beside.   LOL',\n",
       " 'OK, I just read that 5 times and I still don\\'t get it. WHAT are these distinctions all about? I\\'d love an answer of any kind, especially today, the anniversary of the four Church-women murdered in El Salvador in 1980. Whether my friend Ita Ford, MM, and her companions died  for \"having confessed the Creed or for having done the works which Jesus commands with regard to one\\'s neighbor\" carries no distinction for me about the kind of lives they lived, nor the kind of death they endured.']"
      ]
     },
     "execution_count": 200,
     "metadata": {},
     "output_type": "execute_result"
    }
   ],
   "source": [
    "corresponding_examples[embedding_key].to_list()"
   ]
  },
  {
   "attachments": {},
   "cell_type": "markdown",
   "metadata": {},
   "source": [
    "It looks like the religious comments have drifted to be more toxic!\n",
    "\n",
    "We can do the same thing from the low toxicity partition. But the results don't make as much sense here."
   ]
  },
  {
   "cell_type": "code",
   "execution_count": 204,
   "metadata": {},
   "outputs": [],
   "source": [
    "result = drift_results_low.drifted_examples(\"comment_text\")\n",
    "drifted_examples = result[\"drifted_examples\"]\n",
    "corresponding_examples = result[\"corresponding_examples\"]"
   ]
  },
  {
   "cell_type": "code",
   "execution_count": 205,
   "metadata": {},
   "outputs": [
    {
     "data": {
      "text/plain": [
       "['Did anybody notice?  If this is supposedly a driverless train, why does it need wipers on the windshield?',\n",
       " \"Yes, and I'll bet that you can't cite the lawyer, the case number, or the final report number.  Right?\",\n",
       " 'Amen!  God Bless!',\n",
       " 'It sounds like that may be my ex wife.',\n",
       " 'Just gleaning off PERSONAL EXPERIENCE. As a foreigner when over there.\\n\\nBut what do I know?? ;-)',\n",
       " 'Just a SA professional blogger paid to stir the pot.  \"Allie\" could be a 45 year old \"Man\" named \"Dan\".   Get it?  LOL.',\n",
       " \"Some woman must have really done you wrong in the past, for you to be so obsessed with projecting your own perspective on every single news story about a woman allegedly being abused.\\n\\nWhat crimes were you falsely accused of??   It is so obvious that some woman must have really abused you very badly in the past, for you to be holding onto such an intense grudge that you must speak out whenever these kinds of news stories are printed.\\n\\nPlease stop projecting your unfortunate experience onto all of these news reports.   I'm sad that you were hurt so deeply, but not all women are liars and make up false allegations.  It is getting to be sort of ridiculous for you to be questioning every single news story of this nature.  \\n\\nYou sound like you are a broken record.   We have heard this all before from you so many times now.\\n\\n.\",\n",
       " 'Depends on the brand of cleats.',\n",
       " \"I'd say the opposite -those people are much more the same than they are different.\",\n",
       " 'double standard kid and parent. he or she said he or her would rather go against boys, then why did he or she enter against girls.  give me break.  what is so wrong with sitting out until you are either a complete boy or girl then wrestle in the appropriate grouping regardless of what the birth certificate says.  obvious he or she will have to have her or his certificate revised when he or she is fully a he or she']"
      ]
     },
     "execution_count": 205,
     "metadata": {},
     "output_type": "execute_result"
    }
   ],
   "source": [
    "drifted_examples[embedding_key].to_list()"
   ]
  },
  {
   "cell_type": "code",
   "execution_count": 206,
   "metadata": {},
   "outputs": [
    {
     "data": {
      "text/plain": [
       "[\"Hmm.  So, shannonhall, are you saying that if a person doesn't like Canada's multiculturalism, doesn't like that muslim women have the right to wear hijabs or even niqabs, doesn't like that our constitution provides the right to protest and demonstrate, doesn't like Human Rights Tribunals . . . that they should move?  \\n\\nInteresting concept.\",\n",
       " \"The world has nothing to do with 'Obummers' CIA mercenaries,house of Saud terrorists,and shiny ponies flooding our country with Muslim extremists. Real Syrians stand up and fight for their country, like Canadians did in all their conflicts, and not sponge off the fake sincerity and 'generosity' of our local little potato red book waver!\",\n",
       " \"Fine, the White Nationalist's actions are disgusting. Angela, do you have any comment concerning the Antifists who attacked them? How about the police, who pushed the groups together rather than trying to separate them?\\n\\nAnd, by the way, until you get your Muslim terrorism problem addressed, maybe you should stick to your own knitting.\",\n",
       " 'It still seems to come down to dislike/hatred of Jews; not much has changed in Europe and it is the same here in Canada.  And the comments here are the nicer ones that have not been blocked by the Globe\"s civility policy.',\n",
       " \"You're right that there are thousands of Christian sects in the world today.   It is foolish to put them in a single basket because they have some very different interpretations of the Bible.\\n \\nI'd guess well over half would disagree that You have the only sophisticated interpretation of the Bible.     I'd be glad to have years of conversation on religious theology (on top the decades I've already spent) with you.  This is not where I'd choose to do it though ;-)\\n\\nYour opinion, or mine doesn't matter much in this context.   The facts are that the Christian church is ripe with atrocities throughout its history committed by people who thought they were the True Believers.   Some of those theologies that led to false persecution of 'heretics' still exit in the Christian church today.\\n\\nYou argument implies all Muslim theologies are bad, all Christian theologies are good.    You can't stereotype either faith and Not show bias/prejudice/and in some cases discrimination.\",\n",
       " \"At first glance, it's surprising how well the Saudis get along with Trump given that they appear to have such different attitudes towards women.  As I think about it more, however, it's evident that all of them share a hatred for women.  They just express that hatred in different ways.\",\n",
       " 'BMracek:\\n\"So what is the reason for banning muslims from the seven nations? Is the harm just perceived or is there evidence to support the ban? If the former then there is no reason. If the latter then let\\'s hear it. And please note that smoke and mirrors is not evidence.\"\\n\\nIf we’re going to discount “smoke and mirrors” then it should go two ways. This was NEVER advertised as a “Muslim” ban, nor does it mention Muslims in the executive order. The press and their liberal followers are pushing that agenda. Nancy Pelosi, unknowingly on a hot mic while introducing fellow representative Andre Carson to a protest crowd is overheard saying “Tell them you’re a Muslim. Tell them you’re a Muslim.” It’s clearly the liberal agenda.\\nThe seven countries mentioned in the order are those identified by the Obama administration of having close ties to Islamic terrorism. Pretending that there is no real danger and burying our heads in the sand is a fool’s game.',\n",
       " 'Am I wasting my time extending you the benefit of the doubt that you care or are capable of carrying your end of a meaningful discussion?  That your only intention of posting in the comments section is to troll Muslims?',\n",
       " 'Explain then why Saudi Arabia is not on Trumpy\\'s list? They are one of THE primary stokers of \"radical Islam\" on Earth. And they get a pass. \\n\\nOh...they do business with POTUS & family in addition to buying billions in American made weaponry',\n",
       " 'It wasn\\'t that long ago when governments and school boards across Ontario forced our schools to stop reciting The Lord\\'s Prayer in the morning.  And what were all the arguments used in favour of that move again?  Basically the line was, \"We\\'ve got to get religious practice out of our secular schools.\"   \\n\\nNow we\\'re going to set aside space in our schools for the Muslims to pray?  \\n\\nWe are socially, culturally, and morally lost.  Is it any wonder people are angry?']"
      ]
     },
     "execution_count": 206,
     "metadata": {},
     "output_type": "execute_result"
    }
   ],
   "source": [
    "corresponding_examples[embedding_key].to_list()"
   ]
  },
  {
   "cell_type": "code",
   "execution_count": null,
   "metadata": {},
   "outputs": [],
   "source": []
  }
 ],
 "metadata": {
  "kernelspec": {
   "display_name": "dataval",
   "language": "python",
   "name": "python3"
  },
  "language_info": {
   "codemirror_mode": {
    "name": "ipython",
    "version": 3
   },
   "file_extension": ".py",
   "mimetype": "text/x-python",
   "name": "python",
   "nbconvert_exporter": "python",
   "pygments_lexer": "ipython3",
   "version": "3.8.16"
  },
  "orig_nbformat": 4
 },
 "nbformat": 4,
 "nbformat_minor": 2
}
